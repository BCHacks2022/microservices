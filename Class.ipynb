{
  "cells": [
    {
      "cell_type": "markdown",
      "metadata": {
        "id": "5CGcoSeym-XE"
      },
      "source": [
        "with open(\"labeled.txt\",\"r\") as f:\n",
        "  text=f.read().lower().split(\"\\n\")\n",
        "\n",
        "\n",
        "# Model 1 0~1 Negative conf   Model 2 0~1 Positive conf\n",
        "X1 = []\n",
        "Y1 = []\n",
        "X2 = []\n",
        "Y2 = []\n",
        "for i in text:\n",
        "  if i == \"\":\n",
        "    continue\n",
        "  o = i.split(\"------\")\n",
        "  print(o)\n",
        "  if o[1] == \"\":\n",
        "    X1.append(o[0].split(\" \"))\n",
        "    Y1.append(0)\n",
        "    X2.append(o[0].split(\" \"))\n",
        "    Y2.append(0)"
      ]
    },
    {
      "cell_type": "code",
      "execution_count": 210,
      "metadata": {
        "id": "R_jUEWkvV3mH"
      },
      "outputs": [],
      "source": [
        "with open(\"Positive.txt\",\"r\") as f:\n",
        "  text=f.read().lower().replace(\"“\",\"\").replace(\"”\",\"\").replace('\"',\"\").split(\"\\n\")\n",
        "for i in text:\n",
        "  if i == \"\":\n",
        "    continue\n",
        "\n",
        "  X1.append(i.split(\" \"))\n",
        "  Y1.append(0)\n",
        "  X2.append(i.split(\" \"))\n",
        "  Y2.append(1)"
      ]
    },
    {
      "cell_type": "code",
      "execution_count": 211,
      "metadata": {
        "id": "Vdp6UBycWUbE"
      },
      "outputs": [],
      "source": [
        "with open(\"Negative.txt\",\"r\") as f:\n",
        "  text=f.read().lower().replace(\"“\",\"\").replace(\"”\",\"\").replace('\"',\"\").split(\"\\n\")\n",
        "for i in text:\n",
        "  if i == \"\":\n",
        "    continue\n",
        "\n",
        "  X1.append(i.split(\" \"))\n",
        "  Y1.append(1)\n",
        "  X2.append(i.split(\" \"))\n",
        "  Y2.append(0)"
      ]
    },
    {
      "cell_type": "code",
      "execution_count": null,
      "metadata": {
        "id": "keGaNOPgZc1_"
      },
      "outputs": [],
      "source": [
        "np.sum(Y1)"
      ]
    },
    {
      "cell_type": "code",
      "execution_count": 212,
      "metadata": {
        "id": "OAQG8Y_6q6R7"
      },
      "outputs": [],
      "source": [
        "word_to_token = {}\n",
        "token_count = 0\n",
        "tokened = []\n",
        "\n",
        "for i in X1:\n",
        "  line = []\n",
        "  for word in i:\n",
        "    try:\n",
        "      line.append(word_to_token[word])\n",
        "    except:\n",
        "      token_count+=1\n",
        "      word_to_token[word]=token_count\n",
        "      line.append(word_to_token[word])\n",
        "  tokened.append(line)\n",
        "max_length = 0\n",
        "for i in tokened:\n",
        "  if len(i)>max_length:\n",
        "    max_length=len(i)\n",
        "\n",
        "padded = []\n",
        "for i in tokened:\n",
        "  i.extend([0]*(max_length+1-len(i)))\n",
        "  padded.append(i)"
      ]
    },
    {
      "cell_type": "code",
      "execution_count": 214,
      "metadata": {
        "id": "9mdQTpM3ufN6"
      },
      "outputs": [],
      "source": [
        "import numpy as np\n",
        "\n",
        "import tensorflow as tf\n",
        "import tensorflow_hub as hub\n",
        "import tensorflow_datasets as tfds\n",
        "\n",
        "import matplotlib.pyplot as plt\n"
      ]
    },
    {
      "cell_type": "code",
      "execution_count": null,
      "metadata": {
        "id": "K3DG72qAzgzm"
      },
      "outputs": [],
      "source": [
        "model = tf.keras.Sequential([\n",
        "    tf.keras.layers.Input(shape=(max_length+1)),\n",
        "    tf.keras.layers.Embedding(\n",
        "        input_dim=token_count+2,\n",
        "        output_dim=64),\n",
        "    tf.keras.layers.Conv1D(16, 5, activation='relu'),\n",
        "    tf.keras.layers.Conv1D(32, 5, activation='relu'),\n",
        "    tf.keras.layers.Conv1D(64, 5, activation='relu'),\n",
        "    tf.keras.layers.Conv1D(128, 5, activation='relu'),\n",
        "    # tf.keras.layers.GRU(100, activation='relu', return_sequences=1),\n",
        "    tf.keras.layers.Dense(50, activation='relu'),\n",
        "    tf.keras.layers.Dense(25, activation='relu'),\n",
        "    tf.keras.layers.Flatten(),\n",
        "    tf.keras.layers.Dense(2048, activation='relu'),\n",
        "    tf.keras.layers.Dense(1024, activation='relu'),\n",
        "    tf.keras.layers.Dense(64, activation='relu'),\n",
        "    tf.keras.layers.Dense(64, activation='relu'),\n",
        "    tf.keras.layers.Dense(32, activation='relu'),\n",
        "    tf.keras.layers.Dense(18, activation='relu'),\n",
        "    tf.keras.layers.Dense(1, activation='sigmoid')\n",
        "])\n",
        "model.summary()"
      ]
    },
    {
      "cell_type": "code",
      "execution_count": 216,
      "metadata": {
        "id": "ZBUC0wQn0CQf"
      },
      "outputs": [],
      "source": [
        "model.compile(loss=tf.keras.losses.BinaryCrossentropy(),\n",
        "              optimizer=tf.keras.optimizers.Adam(1e-4),\n",
        "              metrics=[\"accuracy\"])"
      ]
    },
    {
      "cell_type": "code",
      "execution_count": null,
      "metadata": {
        "id": "e-TUcD8v0Os4"
      },
      "outputs": [],
      "source": [
        "# model.fit(X, padded)\n",
        "index = np.arange(0,len(X1))\n",
        "np.random.shuffle(index)\n",
        "padded = np.array(padded)[index]\n",
        "Y1 = np.array(Y1)[index]\n",
        "model.fit(padded, Y1, epochs=30, shuffle=True, validation_split=0.1)\n",
        "# https://stackoverflow.com/questions/51581521/accuracy-stuck-at-50-keras\n",
        "# THIS HELPED A LOT!!! A QUESTION THAT WAS ANNOYING ME FOR MORE THAN A YEAR!"
      ]
    },
    {
      "cell_type": "code",
      "execution_count": null,
      "metadata": {
        "id": "OYpcbqhj4wVg"
      },
      "outputs": [],
      "source": [
        "ans = []\n",
        "for i in range(200):\n",
        "  ans.append(model.predict([padded[i]]))"
      ]
    },
    {
      "cell_type": "code",
      "execution_count": 192,
      "metadata": {
        "colab": {
          "base_uri": "https://localhost:8080/"
        },
        "id": "FjgpY_vFj7DD",
        "outputId": "9ff7478d-5e81-4942-950c-3029015307ce"
      },
      "outputs": [
        {
          "name": "stdout",
          "output_type": "stream",
          "text": [
            "1/1 [==============================] - 0s 27ms/step\n"
          ]
        },
        {
          "data": {
            "text/plain": [
              "array([[0.02018598]], dtype=float32)"
            ]
          },
          "execution_count": 192,
          "metadata": {},
          "output_type": "execute_result"
        }
      ],
      "source": [
        "test = \"we collect information you provide directly to us\"\n",
        "tokened_test = [word_to_token[word] for word in test.split(\" \")]\n",
        "tokened_test.extend([0]*(max_length+1-len(tokened_test)))\n",
        "model.predict([tokened_test])\n"
      ]
    },
    {
      "cell_type": "code",
      "execution_count": null,
      "metadata": {
        "id": "GmJ0t3prkV6U"
      },
      "outputs": [],
      "source": [
        "tokened_test"
      ]
    },
    {
      "cell_type": "code",
      "execution_count": 220,
      "metadata": {
        "colab": {
          "base_uri": "https://localhost:8080/"
        },
        "id": "eHVxcVh6ZQCA",
        "outputId": "74573413-6313-4781-c290-9497d1cfd2d1"
      },
      "outputs": [
        {
          "name": "stdout",
          "output_type": "stream",
          "text": [
            "Epoch 1/30\n",
            "22/22 [==============================] - 1s 24ms/step - loss: 0.6809 - accuracy: 0.6142 - val_loss: 0.6848 - val_accuracy: 0.5714\n",
            "Epoch 2/30\n",
            "22/22 [==============================] - 0s 11ms/step - loss: 0.6619 - accuracy: 0.6387 - val_loss: 0.6836 - val_accuracy: 0.5714\n",
            "Epoch 3/30\n",
            "22/22 [==============================] - 0s 11ms/step - loss: 0.6447 - accuracy: 0.6387 - val_loss: 0.6801 - val_accuracy: 0.5714\n",
            "Epoch 4/30\n",
            "22/22 [==============================] - 0s 10ms/step - loss: 0.6245 - accuracy: 0.6387 - val_loss: 0.6703 - val_accuracy: 0.5714\n",
            "Epoch 5/30\n",
            "22/22 [==============================] - 0s 10ms/step - loss: 0.5931 - accuracy: 0.6387 - val_loss: 0.6804 - val_accuracy: 0.5714\n",
            "Epoch 6/30\n",
            "22/22 [==============================] - 0s 10ms/step - loss: 0.5421 - accuracy: 0.6561 - val_loss: 0.5983 - val_accuracy: 0.6364\n",
            "Epoch 7/30\n",
            "22/22 [==============================] - 0s 11ms/step - loss: 0.4751 - accuracy: 0.7442 - val_loss: 0.6251 - val_accuracy: 0.6623\n",
            "Epoch 8/30\n",
            "22/22 [==============================] - 0s 10ms/step - loss: 0.3764 - accuracy: 0.8309 - val_loss: 0.7626 - val_accuracy: 0.6883\n",
            "Epoch 9/30\n",
            "22/22 [==============================] - 0s 10ms/step - loss: 0.2761 - accuracy: 0.8815 - val_loss: 0.9536 - val_accuracy: 0.7143\n",
            "Epoch 10/30\n",
            "22/22 [==============================] - 0s 10ms/step - loss: 0.2156 - accuracy: 0.9147 - val_loss: 0.8930 - val_accuracy: 0.7532\n",
            "Epoch 11/30\n",
            "22/22 [==============================] - 0s 10ms/step - loss: 0.1808 - accuracy: 0.9350 - val_loss: 1.2158 - val_accuracy: 0.7013\n",
            "Epoch 12/30\n",
            "22/22 [==============================] - 0s 10ms/step - loss: 0.1669 - accuracy: 0.9408 - val_loss: 1.1952 - val_accuracy: 0.7143\n",
            "Epoch 13/30\n",
            "22/22 [==============================] - 0s 10ms/step - loss: 0.1538 - accuracy: 0.9451 - val_loss: 1.1335 - val_accuracy: 0.7273\n",
            "Epoch 14/30\n",
            "22/22 [==============================] - 0s 10ms/step - loss: 0.1386 - accuracy: 0.9480 - val_loss: 1.0714 - val_accuracy: 0.7273\n",
            "Epoch 15/30\n",
            "22/22 [==============================] - 0s 11ms/step - loss: 0.1233 - accuracy: 0.9581 - val_loss: 1.0863 - val_accuracy: 0.7403\n",
            "Epoch 16/30\n",
            "22/22 [==============================] - 0s 11ms/step - loss: 0.1205 - accuracy: 0.9595 - val_loss: 1.4546 - val_accuracy: 0.7013\n",
            "Epoch 17/30\n",
            "22/22 [==============================] - 0s 10ms/step - loss: 0.1005 - accuracy: 0.9624 - val_loss: 1.3616 - val_accuracy: 0.7143\n",
            "Epoch 18/30\n",
            "22/22 [==============================] - 0s 10ms/step - loss: 0.0929 - accuracy: 0.9653 - val_loss: 1.7133 - val_accuracy: 0.7013\n",
            "Epoch 19/30\n",
            "22/22 [==============================] - 0s 10ms/step - loss: 0.0856 - accuracy: 0.9639 - val_loss: 1.7041 - val_accuracy: 0.7143\n",
            "Epoch 20/30\n",
            "22/22 [==============================] - 0s 10ms/step - loss: 0.0929 - accuracy: 0.9610 - val_loss: 1.7046 - val_accuracy: 0.7013\n",
            "Epoch 21/30\n",
            "22/22 [==============================] - 0s 9ms/step - loss: 0.0757 - accuracy: 0.9624 - val_loss: 1.4304 - val_accuracy: 0.7013\n",
            "Epoch 22/30\n",
            "22/22 [==============================] - 0s 10ms/step - loss: 0.0833 - accuracy: 0.9610 - val_loss: 2.1926 - val_accuracy: 0.7013\n",
            "Epoch 23/30\n",
            "22/22 [==============================] - 0s 11ms/step - loss: 0.0714 - accuracy: 0.9639 - val_loss: 1.8488 - val_accuracy: 0.7143\n",
            "Epoch 24/30\n",
            "22/22 [==============================] - 0s 10ms/step - loss: 0.0586 - accuracy: 0.9653 - val_loss: 2.0344 - val_accuracy: 0.6883\n",
            "Epoch 25/30\n",
            "22/22 [==============================] - 0s 10ms/step - loss: 0.0544 - accuracy: 0.9653 - val_loss: 2.2969 - val_accuracy: 0.6883\n",
            "Epoch 26/30\n",
            "22/22 [==============================] - 0s 10ms/step - loss: 0.0513 - accuracy: 0.9725 - val_loss: 2.5462 - val_accuracy: 0.7143\n",
            "Epoch 27/30\n",
            "22/22 [==============================] - 0s 9ms/step - loss: 0.0488 - accuracy: 0.9827 - val_loss: 2.4038 - val_accuracy: 0.7143\n",
            "Epoch 28/30\n",
            "22/22 [==============================] - 0s 10ms/step - loss: 0.0429 - accuracy: 0.9855 - val_loss: 2.4019 - val_accuracy: 0.7013\n",
            "Epoch 29/30\n",
            "22/22 [==============================] - 0s 10ms/step - loss: 0.0445 - accuracy: 0.9798 - val_loss: 2.6185 - val_accuracy: 0.7013\n",
            "Epoch 30/30\n",
            "22/22 [==============================] - 0s 10ms/step - loss: 0.0377 - accuracy: 0.9827 - val_loss: 2.4575 - val_accuracy: 0.7403\n"
          ]
        },
        {
          "data": {
            "text/plain": [
              "<keras.callbacks.History at 0x7f2d40987090>"
            ]
          },
          "execution_count": 220,
          "metadata": {},
          "output_type": "execute_result"
        }
      ],
      "source": [
        "word_to_token = {}\n",
        "token_count = 0\n",
        "tokened = []\n",
        "\n",
        "for i in X2:\n",
        "  line = []\n",
        "  for word in i:\n",
        "    try:\n",
        "      line.append(word_to_token[word])\n",
        "    except:\n",
        "      token_count+=1\n",
        "      word_to_token[word]=token_count\n",
        "      line.append(word_to_token[word])\n",
        "  tokened.append(line)\n",
        "max_length = 0\n",
        "for i in tokened:\n",
        "  if len(i)>max_length:\n",
        "    max_length=len(i)\n",
        "\n",
        "padded2 = []\n",
        "for i in tokened:\n",
        "  i.extend([0]*(max_length+1-len(i)))\n",
        "  padded2.append(i)\n",
        "\n",
        "model2 = tf.keras.Sequential([\n",
        "    tf.keras.layers.Input(shape=(max_length+1)),\n",
        "    tf.keras.layers.Embedding(\n",
        "        input_dim=token_count+2,\n",
        "        output_dim=64),\n",
        "    tf.keras.layers.Conv1D(16, 5, activation='relu'),\n",
        "    tf.keras.layers.Conv1D(32, 5, activation='relu'),\n",
        "    tf.keras.layers.Conv1D(64, 5, activation='relu'),\n",
        "    tf.keras.layers.Conv1D(128, 5, activation='relu'),\n",
        "    # tf.keras.layers.GRU(100, activation='relu', return_sequences=1),\n",
        "    tf.keras.layers.Dense(50, activation='relu'),\n",
        "    tf.keras.layers.Dense(25, activation='relu'),\n",
        "    tf.keras.layers.Flatten(),\n",
        "    tf.keras.layers.Dense(2048, activation='relu'),\n",
        "    tf.keras.layers.Dense(1024, activation='relu'),\n",
        "    tf.keras.layers.Dense(64, activation='relu'),\n",
        "    tf.keras.layers.Dense(64, activation='relu'),\n",
        "    tf.keras.layers.Dense(32, activation='relu'),\n",
        "    tf.keras.layers.Dense(18, activation='relu'),\n",
        "    tf.keras.layers.Dense(1, activation='sigmoid')\n",
        "])\n",
        "model2.compile(loss=tf.keras.losses.BinaryCrossentropy(),\n",
        "              optimizer=tf.keras.optimizers.Adam(1e-4),\n",
        "              metrics=[\"accuracy\"])\n",
        "index = np.arange(0,len(X2))\n",
        "np.random.shuffle(index)\n",
        "padded = np.array(padded2)[index]\n",
        "Y2 = np.array(Y2)[index]\n",
        "model2.fit(padded, Y2, epochs=30, shuffle=True, validation_split=0.1)"
      ]
    },
    {
      "cell_type": "code",
      "execution_count": null,
      "metadata": {
        "id": "Dij0fHdf87Yo"
      },
      "outputs": [],
      "source": [
        "ans"
      ]
    },
    {
      "cell_type": "code",
      "execution_count": null,
      "metadata": {
        "id": "1vSnpVwqexGO"
      },
      "outputs": [],
      "source": [
        "from sklearn.feature_extraction.text import CountVectorizer"
      ]
    },
    {
      "cell_type": "code",
      "execution_count": null,
      "metadata": {
        "id": "jxba8ZFse0cu"
      },
      "outputs": [],
      "source": [
        "tf = CountVectorizer()\n",
        "X = tf.fit_transform(X1)"
      ]
    },
    {
      "cell_type": "code",
      "execution_count": null,
      "metadata": {
        "id": "kgWna3Ube20t"
      },
      "outputs": [],
      "source": [
        "X1"
      ]
    }
  ],
  "metadata": {
    "accelerator": "GPU",
    "colab": {
      "provenance": []
    },
    "gpuClass": "standard",
    "kernelspec": {
      "display_name": "Python 3",
      "name": "python3"
    },
    "language_info": {
      "name": "python"
    }
  },
  "nbformat": 4,
  "nbformat_minor": 0
}
