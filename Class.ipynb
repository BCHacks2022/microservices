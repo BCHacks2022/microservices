{
  "nbformat": 4,
  "nbformat_minor": 0,
  "metadata": {
    "colab": {
      "provenance": []
    },
    "kernelspec": {
      "name": "python3",
      "display_name": "Python 3"
    },
    "language_info": {
      "name": "python"
    },
    "accelerator": "GPU",
    "gpuClass": "standard"
  },
  "cells": [
    {
      "cell_type": "code",
      "execution_count": null,
      "metadata": {
        "id": "5CGcoSeym-XE"
      },
      "outputs": [],
      "source": [
        "with open(\"labeled.txt\",\"r\") as f:\n",
        "  text=f.read().lower().split(\"\\n\")\n",
        "\n",
        "\n",
        "# Model 1 0~1 Negative conf   Model 2 0~1 Positive conf\n",
        "X1 = []\n",
        "Y1 = []\n",
        "X2 = []\n",
        "Y2 = []\n",
        "for i in text:\n",
        "  if i == \"\":\n",
        "    continue\n",
        "  o = i.split(\"------\")\n",
        "  print(o)\n",
        "  if o[1] == \"\":\n",
        "    X1.append(o[0].split(\" \"))\n",
        "    Y1.append(0)\n",
        "    X2.append(o[0].split(\" \"))\n",
        "    Y2.append(0)"
      ]
    },
    {
      "cell_type": "code",
      "source": [
        "with open(\"Positive.txt\",\"r\") as f:\n",
        "  text=f.read().lower().replace(\"“\",\"\").replace(\"”\",\"\").replace('\"',\"\").split(\"\\n\")\n",
        "for i in text:\n",
        "  if i == \"\":\n",
        "    continue\n",
        "\n",
        "  X1.append(i.split(\" \"))\n",
        "  Y1.append(0)\n",
        "  X2.append(i.split(\" \"))\n",
        "  Y2.append(1)"
      ],
      "metadata": {
        "id": "R_jUEWkvV3mH"
      },
      "execution_count": 260,
      "outputs": []
    },
    {
      "cell_type": "code",
      "source": [
        "with open(\"Negative.txt\",\"r\") as f:\n",
        "  text=f.read().lower().replace(\"“\",\"\").replace(\"”\",\"\").replace('\"',\"\").split(\"\\n\")\n",
        "for i in text:\n",
        "  if i == \"\":\n",
        "    continue\n",
        "\n",
        "  X1.append(i.split(\" \"))\n",
        "  Y1.append(1)\n",
        "  X2.append(i.split(\" \"))\n",
        "  Y2.append(0)"
      ],
      "metadata": {
        "id": "Vdp6UBycWUbE"
      },
      "execution_count": 261,
      "outputs": []
    },
    {
      "cell_type": "code",
      "source": [
        "np.sum(Y1)"
      ],
      "metadata": {
        "colab": {
          "base_uri": "https://localhost:8080/"
        },
        "id": "keGaNOPgZc1_",
        "outputId": "6250e68d-2a99-4089-8a15-9f7ce9d17af0"
      },
      "execution_count": null,
      "outputs": [
        {
          "output_type": "execute_result",
          "data": {
            "text/plain": [
              "307"
            ]
          },
          "metadata": {},
          "execution_count": 231
        }
      ]
    },
    {
      "cell_type": "code",
      "source": [
        "word_to_token = {}\n",
        "token_count = 0\n",
        "tokened = []\n",
        "\n",
        "for i in X1:\n",
        "  line = []\n",
        "  for word in i:\n",
        "    try:\n",
        "      line.append(word_to_token[word])\n",
        "    except:\n",
        "      token_count+=1\n",
        "      word_to_token[word]=token_count\n",
        "      line.append(word_to_token[word])\n",
        "  tokened.append(line)\n",
        "max_length = 0\n",
        "for i in tokened:\n",
        "  if len(i)>max_length:\n",
        "    max_length=len(i)\n",
        "\n",
        "padded = []\n",
        "for i in tokened:\n",
        "  i.extend([0]*(max_length+1-len(i)))\n",
        "  padded.append(i)"
      ],
      "metadata": {
        "id": "OAQG8Y_6q6R7"
      },
      "execution_count": 262,
      "outputs": []
    },
    {
      "cell_type": "code",
      "source": [
        "import pickle\n",
        "with open(\"word_to_token.pkl\",\"wb\") as f:\n",
        "  pickle.dump(word_to_token, f)"
      ],
      "metadata": {
        "id": "7OncfGmw3spe"
      },
      "execution_count": 263,
      "outputs": []
    },
    {
      "cell_type": "code",
      "source": [
        "import numpy as np\n",
        "\n",
        "import tensorflow as tf\n",
        "import tensorflow_hub as hub\n",
        "import tensorflow_datasets as tfds\n",
        "\n",
        "import matplotlib.pyplot as plt\n"
      ],
      "metadata": {
        "id": "9mdQTpM3ufN6"
      },
      "execution_count": null,
      "outputs": []
    },
    {
      "cell_type": "code",
      "source": [
        "model = tf.keras.Sequential([\n",
        "    tf.keras.layers.Input(shape=(max_length+1)),\n",
        "    tf.keras.layers.Embedding(\n",
        "        input_dim=token_count+2,\n",
        "        output_dim=64),\n",
        "    # tf.keras.layers.Conv1D(16, 5, activation='relu'),\n",
        "    # tf.keras.layers.Conv1D(32, 5, activation='relu'),\n",
        "    # tf.keras.layers.Conv1D(64, 5, activation='relu'),\n",
        "    # tf.keras.layers.Conv1D(128, 5, activation='relu'),\n",
        "    tf.keras.layers.GRU(100, activation='relu', return_sequences=1),\n",
        "    tf.keras.layers.Dense(50, activation='relu'),\n",
        "    tf.keras.layers.Dense(25, activation='relu'),\n",
        "    tf.keras.layers.Flatten(),\n",
        "    tf.keras.layers.Dense(2048, activation='relu'),\n",
        "    tf.keras.layers.Dense(1024, activation='relu'),\n",
        "    tf.keras.layers.Dense(64, activation='relu'),\n",
        "    tf.keras.layers.Dense(64, activation='relu'),\n",
        "    tf.keras.layers.Dropout(0.8),\n",
        "    tf.keras.layers.Dense(32, activation='relu'),\n",
        "    tf.keras.layers.Dense(18, activation='relu'),\n",
        "    tf.keras.layers.Dense(1, activation='sigmoid')\n",
        "])\n",
        "model.summary()"
      ],
      "metadata": {
        "id": "K3DG72qAzgzm"
      },
      "execution_count": null,
      "outputs": []
    },
    {
      "cell_type": "code",
      "source": [
        "model.compile(loss=tf.keras.losses.BinaryCrossentropy(),\n",
        "              optimizer=tf.keras.optimizers.Adam(1e-4),\n",
        "              metrics=[\"accuracy\"])"
      ],
      "metadata": {
        "id": "ZBUC0wQn0CQf"
      },
      "execution_count": null,
      "outputs": []
    },
    {
      "cell_type": "code",
      "source": [
        "# model.fit(X, padded)\n",
        "index = np.arange(0,len(X1))\n",
        "np.random.shuffle(index)\n",
        "padded = np.array(padded)[index]\n",
        "Y1 = np.array(Y1)[index]\n",
        "model.fit(padded, Y1, epochs=30, shuffle=True, validation_split=0.1)\n",
        "# https://stackoverflow.com/questions/51581521/accuracy-stuck-at-50-keras\n",
        "# THIS HELPED A LOT!!! A QUESTION THAT WAS ANNOYING ME FOR MORE THAN A YEAR!"
      ],
      "metadata": {
        "colab": {
          "base_uri": "https://localhost:8080/",
          "height": 1000
        },
        "id": "e-TUcD8v0Os4",
        "outputId": "15d19adb-f571-4d95-9ad6-d19119def98a"
      },
      "execution_count": null,
      "outputs": [
        {
          "output_type": "stream",
          "name": "stdout",
          "text": [
            "Epoch 1/30\n",
            "22/22 [==============================] - 10s 379ms/step - loss: 0.6900 - accuracy: 0.5650 - val_loss: 0.6836 - val_accuracy: 0.6104\n",
            "Epoch 2/30\n",
            "22/22 [==============================] - 8s 359ms/step - loss: 0.6814 - accuracy: 0.5925 - val_loss: 0.6660 - val_accuracy: 0.6104\n",
            "Epoch 3/30\n",
            "22/22 [==============================] - 8s 376ms/step - loss: 0.6818 - accuracy: 0.5896 - val_loss: 0.6675 - val_accuracy: 0.6104\n",
            "Epoch 4/30\n",
            "22/22 [==============================] - 8s 348ms/step - loss: 0.6660 - accuracy: 0.5939 - val_loss: 0.6447 - val_accuracy: 0.6104\n",
            "Epoch 5/30\n",
            "22/22 [==============================] - 8s 362ms/step - loss: 0.6522 - accuracy: 0.5968 - val_loss: 0.6183 - val_accuracy: 0.6104\n",
            "Epoch 6/30\n",
            "22/22 [==============================] - 8s 354ms/step - loss: 0.6337 - accuracy: 0.5997 - val_loss: 0.5790 - val_accuracy: 0.6234\n",
            "Epoch 7/30\n",
            "22/22 [==============================] - 8s 356ms/step - loss: 0.5940 - accuracy: 0.6460 - val_loss: 0.5209 - val_accuracy: 0.8052\n",
            "Epoch 8/30\n",
            "22/22 [==============================] - 8s 360ms/step - loss: 0.5265 - accuracy: 0.6879 - val_loss: 0.5151 - val_accuracy: 0.8701\n",
            "Epoch 9/30\n",
            "22/22 [==============================] - 8s 370ms/step - loss: 0.4329 - accuracy: 0.7659 - val_loss: 0.3726 - val_accuracy: 0.9221\n",
            "Epoch 10/30\n",
            "22/22 [==============================] - 8s 359ms/step - loss: 0.3479 - accuracy: 0.8396 - val_loss: 0.3476 - val_accuracy: 0.8961\n",
            "Epoch 11/30\n",
            "22/22 [==============================] - 8s 349ms/step - loss: 0.3054 - accuracy: 0.8902 - val_loss: 0.3129 - val_accuracy: 0.8571\n",
            "Epoch 12/30\n",
            "22/22 [==============================] - 8s 357ms/step - loss: 0.2177 - accuracy: 0.9321 - val_loss: 0.2993 - val_accuracy: 0.8571\n",
            "Epoch 13/30\n",
            "22/22 [==============================] - 8s 351ms/step - loss: 0.1916 - accuracy: 0.9494 - val_loss: 0.2868 - val_accuracy: 0.8312\n",
            "Epoch 14/30\n",
            "22/22 [==============================] - 8s 371ms/step - loss: 0.1240 - accuracy: 0.9711 - val_loss: 0.3409 - val_accuracy: 0.9351\n",
            "Epoch 15/30\n",
            "22/22 [==============================] - 8s 357ms/step - loss: 0.1345 - accuracy: 0.9624 - val_loss: 0.2758 - val_accuracy: 0.9221\n",
            "Epoch 16/30\n",
            "22/22 [==============================] - 8s 351ms/step - loss: 0.1070 - accuracy: 0.9798 - val_loss: 0.3592 - val_accuracy: 0.9091\n",
            "Epoch 17/30\n",
            "22/22 [==============================] - 8s 357ms/step - loss: 0.0870 - accuracy: 0.9870 - val_loss: 0.3053 - val_accuracy: 0.9221\n",
            "Epoch 18/30\n",
            "22/22 [==============================] - 8s 356ms/step - loss: 0.0558 - accuracy: 0.9884 - val_loss: 0.3581 - val_accuracy: 0.8831\n",
            "Epoch 19/30\n",
            "22/22 [==============================] - 8s 348ms/step - loss: 0.0619 - accuracy: 0.9913 - val_loss: 0.6039 - val_accuracy: 0.8052\n",
            "Epoch 20/30\n",
            "22/22 [==============================] - 8s 357ms/step - loss: 0.0582 - accuracy: 0.9870 - val_loss: 0.4213 - val_accuracy: 0.9351\n",
            "Epoch 21/30\n",
            "22/22 [==============================] - 8s 352ms/step - loss: 0.0490 - accuracy: 0.9957 - val_loss: 0.4781 - val_accuracy: 0.9351\n",
            "Epoch 22/30\n",
            "22/22 [==============================] - 8s 359ms/step - loss: 0.0365 - accuracy: 0.9957 - val_loss: 0.4194 - val_accuracy: 0.8701\n",
            "Epoch 23/30\n",
            "22/22 [==============================] - 8s 357ms/step - loss: 0.0378 - accuracy: 0.9986 - val_loss: 0.5340 - val_accuracy: 0.9351\n",
            "Epoch 24/30\n",
            "22/22 [==============================] - 8s 364ms/step - loss: 0.0501 - accuracy: 0.9928 - val_loss: 0.5043 - val_accuracy: 0.8571\n",
            "Epoch 25/30\n",
            "22/22 [==============================] - 8s 352ms/step - loss: 0.0354 - accuracy: 0.9957 - val_loss: 0.5696 - val_accuracy: 0.9351\n",
            "Epoch 26/30\n",
            "12/22 [===============>..............] - ETA: 3s - loss: 0.0224 - accuracy: 0.9948"
          ]
        },
        {
          "output_type": "error",
          "ename": "KeyboardInterrupt",
          "evalue": "ignored",
          "traceback": [
            "\u001b[0;31m---------------------------------------------------------------------------\u001b[0m",
            "\u001b[0;31mKeyboardInterrupt\u001b[0m                         Traceback (most recent call last)",
            "\u001b[0;32m<ipython-input-244-1cc8c6109273>\u001b[0m in \u001b[0;36m<module>\u001b[0;34m\u001b[0m\n\u001b[1;32m      4\u001b[0m \u001b[0mpadded\u001b[0m \u001b[0;34m=\u001b[0m \u001b[0mnp\u001b[0m\u001b[0;34m.\u001b[0m\u001b[0marray\u001b[0m\u001b[0;34m(\u001b[0m\u001b[0mpadded\u001b[0m\u001b[0;34m)\u001b[0m\u001b[0;34m[\u001b[0m\u001b[0mindex\u001b[0m\u001b[0;34m]\u001b[0m\u001b[0;34m\u001b[0m\u001b[0;34m\u001b[0m\u001b[0m\n\u001b[1;32m      5\u001b[0m \u001b[0mY1\u001b[0m \u001b[0;34m=\u001b[0m \u001b[0mnp\u001b[0m\u001b[0;34m.\u001b[0m\u001b[0marray\u001b[0m\u001b[0;34m(\u001b[0m\u001b[0mY1\u001b[0m\u001b[0;34m)\u001b[0m\u001b[0;34m[\u001b[0m\u001b[0mindex\u001b[0m\u001b[0;34m]\u001b[0m\u001b[0;34m\u001b[0m\u001b[0;34m\u001b[0m\u001b[0m\n\u001b[0;32m----> 6\u001b[0;31m \u001b[0mmodel\u001b[0m\u001b[0;34m.\u001b[0m\u001b[0mfit\u001b[0m\u001b[0;34m(\u001b[0m\u001b[0mpadded\u001b[0m\u001b[0;34m,\u001b[0m \u001b[0mY1\u001b[0m\u001b[0;34m,\u001b[0m \u001b[0mepochs\u001b[0m\u001b[0;34m=\u001b[0m\u001b[0;36m30\u001b[0m\u001b[0;34m,\u001b[0m \u001b[0mshuffle\u001b[0m\u001b[0;34m=\u001b[0m\u001b[0;32mTrue\u001b[0m\u001b[0;34m,\u001b[0m \u001b[0mvalidation_split\u001b[0m\u001b[0;34m=\u001b[0m\u001b[0;36m0.1\u001b[0m\u001b[0;34m)\u001b[0m\u001b[0;34m\u001b[0m\u001b[0;34m\u001b[0m\u001b[0m\n\u001b[0m\u001b[1;32m      7\u001b[0m \u001b[0;31m# https://stackoverflow.com/questions/51581521/accuracy-stuck-at-50-keras\u001b[0m\u001b[0;34m\u001b[0m\u001b[0;34m\u001b[0m\u001b[0;34m\u001b[0m\u001b[0m\n\u001b[1;32m      8\u001b[0m \u001b[0;31m# THIS HELPED A LOT!!! A QUESTION THAT WAS ANNOYING ME FOR MORE THAN A YEAR!\u001b[0m\u001b[0;34m\u001b[0m\u001b[0;34m\u001b[0m\u001b[0;34m\u001b[0m\u001b[0m\n",
            "\u001b[0;32m/usr/local/lib/python3.7/dist-packages/keras/utils/traceback_utils.py\u001b[0m in \u001b[0;36merror_handler\u001b[0;34m(*args, **kwargs)\u001b[0m\n\u001b[1;32m     62\u001b[0m     \u001b[0mfiltered_tb\u001b[0m \u001b[0;34m=\u001b[0m \u001b[0;32mNone\u001b[0m\u001b[0;34m\u001b[0m\u001b[0;34m\u001b[0m\u001b[0m\n\u001b[1;32m     63\u001b[0m     \u001b[0;32mtry\u001b[0m\u001b[0;34m:\u001b[0m\u001b[0;34m\u001b[0m\u001b[0;34m\u001b[0m\u001b[0m\n\u001b[0;32m---> 64\u001b[0;31m       \u001b[0;32mreturn\u001b[0m \u001b[0mfn\u001b[0m\u001b[0;34m(\u001b[0m\u001b[0;34m*\u001b[0m\u001b[0margs\u001b[0m\u001b[0;34m,\u001b[0m \u001b[0;34m**\u001b[0m\u001b[0mkwargs\u001b[0m\u001b[0;34m)\u001b[0m\u001b[0;34m\u001b[0m\u001b[0;34m\u001b[0m\u001b[0m\n\u001b[0m\u001b[1;32m     65\u001b[0m     \u001b[0;32mexcept\u001b[0m \u001b[0mException\u001b[0m \u001b[0;32mas\u001b[0m \u001b[0me\u001b[0m\u001b[0;34m:\u001b[0m  \u001b[0;31m# pylint: disable=broad-except\u001b[0m\u001b[0;34m\u001b[0m\u001b[0;34m\u001b[0m\u001b[0m\n\u001b[1;32m     66\u001b[0m       \u001b[0mfiltered_tb\u001b[0m \u001b[0;34m=\u001b[0m \u001b[0m_process_traceback_frames\u001b[0m\u001b[0;34m(\u001b[0m\u001b[0me\u001b[0m\u001b[0;34m.\u001b[0m\u001b[0m__traceback__\u001b[0m\u001b[0;34m)\u001b[0m\u001b[0;34m\u001b[0m\u001b[0;34m\u001b[0m\u001b[0m\n",
            "\u001b[0;32m/usr/local/lib/python3.7/dist-packages/keras/engine/training.py\u001b[0m in \u001b[0;36mfit\u001b[0;34m(self, x, y, batch_size, epochs, verbose, callbacks, validation_split, validation_data, shuffle, class_weight, sample_weight, initial_epoch, steps_per_epoch, validation_steps, validation_batch_size, validation_freq, max_queue_size, workers, use_multiprocessing)\u001b[0m\n\u001b[1;32m   1407\u001b[0m                 _r=1):\n\u001b[1;32m   1408\u001b[0m               \u001b[0mcallbacks\u001b[0m\u001b[0;34m.\u001b[0m\u001b[0mon_train_batch_begin\u001b[0m\u001b[0;34m(\u001b[0m\u001b[0mstep\u001b[0m\u001b[0;34m)\u001b[0m\u001b[0;34m\u001b[0m\u001b[0;34m\u001b[0m\u001b[0m\n\u001b[0;32m-> 1409\u001b[0;31m               \u001b[0mtmp_logs\u001b[0m \u001b[0;34m=\u001b[0m \u001b[0mself\u001b[0m\u001b[0;34m.\u001b[0m\u001b[0mtrain_function\u001b[0m\u001b[0;34m(\u001b[0m\u001b[0miterator\u001b[0m\u001b[0;34m)\u001b[0m\u001b[0;34m\u001b[0m\u001b[0;34m\u001b[0m\u001b[0m\n\u001b[0m\u001b[1;32m   1410\u001b[0m               \u001b[0;32mif\u001b[0m \u001b[0mdata_handler\u001b[0m\u001b[0;34m.\u001b[0m\u001b[0mshould_sync\u001b[0m\u001b[0;34m:\u001b[0m\u001b[0;34m\u001b[0m\u001b[0;34m\u001b[0m\u001b[0m\n\u001b[1;32m   1411\u001b[0m                 \u001b[0mcontext\u001b[0m\u001b[0;34m.\u001b[0m\u001b[0masync_wait\u001b[0m\u001b[0;34m(\u001b[0m\u001b[0;34m)\u001b[0m\u001b[0;34m\u001b[0m\u001b[0;34m\u001b[0m\u001b[0m\n",
            "\u001b[0;32m/usr/local/lib/python3.7/dist-packages/tensorflow/python/util/traceback_utils.py\u001b[0m in \u001b[0;36merror_handler\u001b[0;34m(*args, **kwargs)\u001b[0m\n\u001b[1;32m    148\u001b[0m     \u001b[0mfiltered_tb\u001b[0m \u001b[0;34m=\u001b[0m \u001b[0;32mNone\u001b[0m\u001b[0;34m\u001b[0m\u001b[0;34m\u001b[0m\u001b[0m\n\u001b[1;32m    149\u001b[0m     \u001b[0;32mtry\u001b[0m\u001b[0;34m:\u001b[0m\u001b[0;34m\u001b[0m\u001b[0;34m\u001b[0m\u001b[0m\n\u001b[0;32m--> 150\u001b[0;31m       \u001b[0;32mreturn\u001b[0m \u001b[0mfn\u001b[0m\u001b[0;34m(\u001b[0m\u001b[0;34m*\u001b[0m\u001b[0margs\u001b[0m\u001b[0;34m,\u001b[0m \u001b[0;34m**\u001b[0m\u001b[0mkwargs\u001b[0m\u001b[0;34m)\u001b[0m\u001b[0;34m\u001b[0m\u001b[0;34m\u001b[0m\u001b[0m\n\u001b[0m\u001b[1;32m    151\u001b[0m     \u001b[0;32mexcept\u001b[0m \u001b[0mException\u001b[0m \u001b[0;32mas\u001b[0m \u001b[0me\u001b[0m\u001b[0;34m:\u001b[0m\u001b[0;34m\u001b[0m\u001b[0;34m\u001b[0m\u001b[0m\n\u001b[1;32m    152\u001b[0m       \u001b[0mfiltered_tb\u001b[0m \u001b[0;34m=\u001b[0m \u001b[0m_process_traceback_frames\u001b[0m\u001b[0;34m(\u001b[0m\u001b[0me\u001b[0m\u001b[0;34m.\u001b[0m\u001b[0m__traceback__\u001b[0m\u001b[0;34m)\u001b[0m\u001b[0;34m\u001b[0m\u001b[0;34m\u001b[0m\u001b[0m\n",
            "\u001b[0;32m/usr/local/lib/python3.7/dist-packages/tensorflow/python/eager/def_function.py\u001b[0m in \u001b[0;36m__call__\u001b[0;34m(self, *args, **kwds)\u001b[0m\n\u001b[1;32m    913\u001b[0m \u001b[0;34m\u001b[0m\u001b[0m\n\u001b[1;32m    914\u001b[0m       \u001b[0;32mwith\u001b[0m \u001b[0mOptionalXlaContext\u001b[0m\u001b[0;34m(\u001b[0m\u001b[0mself\u001b[0m\u001b[0;34m.\u001b[0m\u001b[0m_jit_compile\u001b[0m\u001b[0;34m)\u001b[0m\u001b[0;34m:\u001b[0m\u001b[0;34m\u001b[0m\u001b[0;34m\u001b[0m\u001b[0m\n\u001b[0;32m--> 915\u001b[0;31m         \u001b[0mresult\u001b[0m \u001b[0;34m=\u001b[0m \u001b[0mself\u001b[0m\u001b[0;34m.\u001b[0m\u001b[0m_call\u001b[0m\u001b[0;34m(\u001b[0m\u001b[0;34m*\u001b[0m\u001b[0margs\u001b[0m\u001b[0;34m,\u001b[0m \u001b[0;34m**\u001b[0m\u001b[0mkwds\u001b[0m\u001b[0;34m)\u001b[0m\u001b[0;34m\u001b[0m\u001b[0;34m\u001b[0m\u001b[0m\n\u001b[0m\u001b[1;32m    916\u001b[0m \u001b[0;34m\u001b[0m\u001b[0m\n\u001b[1;32m    917\u001b[0m       \u001b[0mnew_tracing_count\u001b[0m \u001b[0;34m=\u001b[0m \u001b[0mself\u001b[0m\u001b[0;34m.\u001b[0m\u001b[0mexperimental_get_tracing_count\u001b[0m\u001b[0;34m(\u001b[0m\u001b[0;34m)\u001b[0m\u001b[0;34m\u001b[0m\u001b[0;34m\u001b[0m\u001b[0m\n",
            "\u001b[0;32m/usr/local/lib/python3.7/dist-packages/tensorflow/python/eager/def_function.py\u001b[0m in \u001b[0;36m_call\u001b[0;34m(self, *args, **kwds)\u001b[0m\n\u001b[1;32m    945\u001b[0m       \u001b[0;31m# In this case we have created variables on the first call, so we run the\u001b[0m\u001b[0;34m\u001b[0m\u001b[0;34m\u001b[0m\u001b[0;34m\u001b[0m\u001b[0m\n\u001b[1;32m    946\u001b[0m       \u001b[0;31m# defunned version which is guaranteed to never create variables.\u001b[0m\u001b[0;34m\u001b[0m\u001b[0;34m\u001b[0m\u001b[0;34m\u001b[0m\u001b[0m\n\u001b[0;32m--> 947\u001b[0;31m       \u001b[0;32mreturn\u001b[0m \u001b[0mself\u001b[0m\u001b[0;34m.\u001b[0m\u001b[0m_stateless_fn\u001b[0m\u001b[0;34m(\u001b[0m\u001b[0;34m*\u001b[0m\u001b[0margs\u001b[0m\u001b[0;34m,\u001b[0m \u001b[0;34m**\u001b[0m\u001b[0mkwds\u001b[0m\u001b[0;34m)\u001b[0m  \u001b[0;31m# pylint: disable=not-callable\u001b[0m\u001b[0;34m\u001b[0m\u001b[0;34m\u001b[0m\u001b[0m\n\u001b[0m\u001b[1;32m    948\u001b[0m     \u001b[0;32melif\u001b[0m \u001b[0mself\u001b[0m\u001b[0;34m.\u001b[0m\u001b[0m_stateful_fn\u001b[0m \u001b[0;32mis\u001b[0m \u001b[0;32mnot\u001b[0m \u001b[0;32mNone\u001b[0m\u001b[0;34m:\u001b[0m\u001b[0;34m\u001b[0m\u001b[0;34m\u001b[0m\u001b[0m\n\u001b[1;32m    949\u001b[0m       \u001b[0;31m# Release the lock early so that multiple threads can perform the call\u001b[0m\u001b[0;34m\u001b[0m\u001b[0;34m\u001b[0m\u001b[0;34m\u001b[0m\u001b[0m\n",
            "\u001b[0;32m/usr/local/lib/python3.7/dist-packages/tensorflow/python/eager/function.py\u001b[0m in \u001b[0;36m__call__\u001b[0;34m(self, *args, **kwargs)\u001b[0m\n\u001b[1;32m   2452\u001b[0m        filtered_flat_args) = self._maybe_define_function(args, kwargs)\n\u001b[1;32m   2453\u001b[0m     return graph_function._call_flat(\n\u001b[0;32m-> 2454\u001b[0;31m         filtered_flat_args, captured_inputs=graph_function.captured_inputs)  # pylint: disable=protected-access\n\u001b[0m\u001b[1;32m   2455\u001b[0m \u001b[0;34m\u001b[0m\u001b[0m\n\u001b[1;32m   2456\u001b[0m   \u001b[0;34m@\u001b[0m\u001b[0mproperty\u001b[0m\u001b[0;34m\u001b[0m\u001b[0;34m\u001b[0m\u001b[0m\n",
            "\u001b[0;32m/usr/local/lib/python3.7/dist-packages/tensorflow/python/eager/function.py\u001b[0m in \u001b[0;36m_call_flat\u001b[0;34m(self, args, captured_inputs, cancellation_manager)\u001b[0m\n\u001b[1;32m   1859\u001b[0m       \u001b[0;31m# No tape is watching; skip to running the function.\u001b[0m\u001b[0;34m\u001b[0m\u001b[0;34m\u001b[0m\u001b[0;34m\u001b[0m\u001b[0m\n\u001b[1;32m   1860\u001b[0m       return self._build_call_outputs(self._inference_function.call(\n\u001b[0;32m-> 1861\u001b[0;31m           ctx, args, cancellation_manager=cancellation_manager))\n\u001b[0m\u001b[1;32m   1862\u001b[0m     forward_backward = self._select_forward_and_backward_functions(\n\u001b[1;32m   1863\u001b[0m         \u001b[0margs\u001b[0m\u001b[0;34m,\u001b[0m\u001b[0;34m\u001b[0m\u001b[0;34m\u001b[0m\u001b[0m\n",
            "\u001b[0;32m/usr/local/lib/python3.7/dist-packages/tensorflow/python/eager/function.py\u001b[0m in \u001b[0;36mcall\u001b[0;34m(self, ctx, args, cancellation_manager)\u001b[0m\n\u001b[1;32m    500\u001b[0m               \u001b[0minputs\u001b[0m\u001b[0;34m=\u001b[0m\u001b[0margs\u001b[0m\u001b[0;34m,\u001b[0m\u001b[0;34m\u001b[0m\u001b[0;34m\u001b[0m\u001b[0m\n\u001b[1;32m    501\u001b[0m               \u001b[0mattrs\u001b[0m\u001b[0;34m=\u001b[0m\u001b[0mattrs\u001b[0m\u001b[0;34m,\u001b[0m\u001b[0;34m\u001b[0m\u001b[0;34m\u001b[0m\u001b[0m\n\u001b[0;32m--> 502\u001b[0;31m               ctx=ctx)\n\u001b[0m\u001b[1;32m    503\u001b[0m         \u001b[0;32melse\u001b[0m\u001b[0;34m:\u001b[0m\u001b[0;34m\u001b[0m\u001b[0;34m\u001b[0m\u001b[0m\n\u001b[1;32m    504\u001b[0m           outputs = execute.execute_with_cancellation(\n",
            "\u001b[0;32m/usr/local/lib/python3.7/dist-packages/tensorflow/python/eager/execute.py\u001b[0m in \u001b[0;36mquick_execute\u001b[0;34m(op_name, num_outputs, inputs, attrs, ctx, name)\u001b[0m\n\u001b[1;32m     53\u001b[0m     \u001b[0mctx\u001b[0m\u001b[0;34m.\u001b[0m\u001b[0mensure_initialized\u001b[0m\u001b[0;34m(\u001b[0m\u001b[0;34m)\u001b[0m\u001b[0;34m\u001b[0m\u001b[0;34m\u001b[0m\u001b[0m\n\u001b[1;32m     54\u001b[0m     tensors = pywrap_tfe.TFE_Py_Execute(ctx._handle, device_name, op_name,\n\u001b[0;32m---> 55\u001b[0;31m                                         inputs, attrs, num_outputs)\n\u001b[0m\u001b[1;32m     56\u001b[0m   \u001b[0;32mexcept\u001b[0m \u001b[0mcore\u001b[0m\u001b[0;34m.\u001b[0m\u001b[0m_NotOkStatusException\u001b[0m \u001b[0;32mas\u001b[0m \u001b[0me\u001b[0m\u001b[0;34m:\u001b[0m\u001b[0;34m\u001b[0m\u001b[0;34m\u001b[0m\u001b[0m\n\u001b[1;32m     57\u001b[0m     \u001b[0;32mif\u001b[0m \u001b[0mname\u001b[0m \u001b[0;32mis\u001b[0m \u001b[0;32mnot\u001b[0m \u001b[0;32mNone\u001b[0m\u001b[0;34m:\u001b[0m\u001b[0;34m\u001b[0m\u001b[0;34m\u001b[0m\u001b[0m\n",
            "\u001b[0;31mKeyboardInterrupt\u001b[0m: "
          ]
        }
      ]
    },
    {
      "cell_type": "code",
      "source": [
        "test = \"this service will still tracks you even after your account is deleted\"\n",
        "tokened_test = [word_to_token[word] for word in test.split(\" \")]\n",
        "tokened_test.extend([0]*(max_length+1-len(tokened_test)))\n",
        "model.predict([tokened_test])"
      ],
      "metadata": {
        "colab": {
          "base_uri": "https://localhost:8080/"
        },
        "id": "FjgpY_vFj7DD",
        "outputId": "0be3194c-3846-471f-af72-6ed52a153859"
      },
      "execution_count": null,
      "outputs": [
        {
          "output_type": "stream",
          "name": "stdout",
          "text": [
            "1/1 [==============================] - 0s 56ms/step\n"
          ]
        },
        {
          "output_type": "execute_result",
          "data": {
            "text/plain": [
              "array([[0.9596156]], dtype=float32)"
            ]
          },
          "metadata": {},
          "execution_count": 249
        }
      ]
    },
    {
      "cell_type": "code",
      "source": [
        "tokened_test"
      ],
      "metadata": {
        "id": "GmJ0t3prkV6U"
      },
      "execution_count": null,
      "outputs": []
    },
    {
      "cell_type": "code",
      "source": [
        "word_to_token = {}\n",
        "token_count = 0\n",
        "tokened = []\n",
        "\n",
        "for i in X2:\n",
        "  line = []\n",
        "  for word in i:\n",
        "    try:\n",
        "      line.append(word_to_token[word])\n",
        "    except:\n",
        "      token_count+=1\n",
        "      word_to_token[word]=token_count\n",
        "      line.append(word_to_token[word])\n",
        "  tokened.append(line)\n",
        "max_length = 0\n",
        "for i in tokened:\n",
        "  if len(i)>max_length:\n",
        "    max_length=len(i)\n",
        "\n",
        "padded2 = []\n",
        "for i in tokened:\n",
        "  i.extend([0]*(max_length+1-len(i)))\n",
        "  padded2.append(i)\n",
        "\n",
        "model2 = tf.keras.Sequential([\n",
        "    tf.keras.layers.Input(shape=(max_length+1)),\n",
        "    tf.keras.layers.Embedding(\n",
        "        input_dim=token_count+2,\n",
        "        output_dim=64),\n",
        "    # tf.keras.layers.Conv1D(16, 5, activation='relu'),\n",
        "    # tf.keras.layers.Conv1D(32, 5, activation='relu'),\n",
        "    # tf.keras.layers.Conv1D(64, 5, activation='relu'),\n",
        "    # tf.keras.layers.Conv1D(128, 5, activation='relu'),\n",
        "    tf.keras.layers.GRU(100, activation='relu', return_sequences=1),\n",
        "    tf.keras.layers.Dense(50, activation='relu'),\n",
        "    tf.keras.layers.Dense(25, activation='relu'),\n",
        "    tf.keras.layers.Flatten(),\n",
        "    tf.keras.layers.Dense(2048, activation='relu'),\n",
        "    tf.keras.layers.Dense(1024, activation='relu'),\n",
        "    tf.keras.layers.Dense(64, activation='relu'),\n",
        "    tf.keras.layers.Dense(64, activation='relu'),\n",
        "    tf.keras.layers.Dropout(0.8),\n",
        "    tf.keras.layers.Dense(32, activation='relu'),\n",
        "    tf.keras.layers.Dense(18, activation='relu'),\n",
        "    tf.keras.layers.Dense(1, activation='sigmoid')\n",
        "])\n",
        "model2.compile(loss=tf.keras.losses.BinaryCrossentropy(),\n",
        "              optimizer=tf.keras.optimizers.Adam(1e-4),\n",
        "              metrics=[\"accuracy\"])\n",
        "index = np.arange(0,len(X2))\n",
        "np.random.shuffle(index)\n",
        "padded = np.array(padded2)[index]\n",
        "Y2 = np.array(Y2)[index]"
      ],
      "metadata": {
        "colab": {
          "base_uri": "https://localhost:8080/",
          "height": 396
        },
        "id": "eHVxcVh6ZQCA",
        "outputId": "c4e63a08-f7b6-40d8-901e-90eb19427e64"
      },
      "execution_count": null,
      "outputs": [
        {
          "output_type": "stream",
          "name": "stderr",
          "text": [
            "WARNING:tensorflow:Layer gru_10 will not use cuDNN kernels since it doesn't meet the criteria. It will use a generic GPU kernel as fallback when running on GPU.\n"
          ]
        },
        {
          "output_type": "stream",
          "name": "stdout",
          "text": [
            "Epoch 1/30\n"
          ]
        },
        {
          "output_type": "error",
          "ename": "KeyboardInterrupt",
          "evalue": "ignored",
          "traceback": [
            "\u001b[0;31m---------------------------------------------------------------------------\u001b[0m",
            "\u001b[0;31mKeyboardInterrupt\u001b[0m                         Traceback (most recent call last)",
            "\u001b[0;32m<ipython-input-245-ea828c6a19eb>\u001b[0m in \u001b[0;36m<module>\u001b[0;34m\u001b[0m\n\u001b[1;32m     52\u001b[0m \u001b[0mpadded\u001b[0m \u001b[0;34m=\u001b[0m \u001b[0mnp\u001b[0m\u001b[0;34m.\u001b[0m\u001b[0marray\u001b[0m\u001b[0;34m(\u001b[0m\u001b[0mpadded2\u001b[0m\u001b[0;34m)\u001b[0m\u001b[0;34m[\u001b[0m\u001b[0mindex\u001b[0m\u001b[0;34m]\u001b[0m\u001b[0;34m\u001b[0m\u001b[0;34m\u001b[0m\u001b[0m\n\u001b[1;32m     53\u001b[0m \u001b[0mY2\u001b[0m \u001b[0;34m=\u001b[0m \u001b[0mnp\u001b[0m\u001b[0;34m.\u001b[0m\u001b[0marray\u001b[0m\u001b[0;34m(\u001b[0m\u001b[0mY2\u001b[0m\u001b[0;34m)\u001b[0m\u001b[0;34m[\u001b[0m\u001b[0mindex\u001b[0m\u001b[0;34m]\u001b[0m\u001b[0;34m\u001b[0m\u001b[0;34m\u001b[0m\u001b[0m\n\u001b[0;32m---> 54\u001b[0;31m \u001b[0mmodel2\u001b[0m\u001b[0;34m.\u001b[0m\u001b[0mfit\u001b[0m\u001b[0;34m(\u001b[0m\u001b[0mpadded\u001b[0m\u001b[0;34m,\u001b[0m \u001b[0mY2\u001b[0m\u001b[0;34m,\u001b[0m \u001b[0mepochs\u001b[0m\u001b[0;34m=\u001b[0m\u001b[0;36m30\u001b[0m\u001b[0;34m,\u001b[0m \u001b[0mshuffle\u001b[0m\u001b[0;34m=\u001b[0m\u001b[0;32mTrue\u001b[0m\u001b[0;34m,\u001b[0m \u001b[0mvalidation_split\u001b[0m\u001b[0;34m=\u001b[0m\u001b[0;36m0.1\u001b[0m\u001b[0;34m)\u001b[0m\u001b[0;34m\u001b[0m\u001b[0;34m\u001b[0m\u001b[0m\n\u001b[0m",
            "\u001b[0;32m/usr/local/lib/python3.7/dist-packages/keras/utils/traceback_utils.py\u001b[0m in \u001b[0;36merror_handler\u001b[0;34m(*args, **kwargs)\u001b[0m\n\u001b[1;32m     62\u001b[0m     \u001b[0mfiltered_tb\u001b[0m \u001b[0;34m=\u001b[0m \u001b[0;32mNone\u001b[0m\u001b[0;34m\u001b[0m\u001b[0;34m\u001b[0m\u001b[0m\n\u001b[1;32m     63\u001b[0m     \u001b[0;32mtry\u001b[0m\u001b[0;34m:\u001b[0m\u001b[0;34m\u001b[0m\u001b[0;34m\u001b[0m\u001b[0m\n\u001b[0;32m---> 64\u001b[0;31m       \u001b[0;32mreturn\u001b[0m \u001b[0mfn\u001b[0m\u001b[0;34m(\u001b[0m\u001b[0;34m*\u001b[0m\u001b[0margs\u001b[0m\u001b[0;34m,\u001b[0m \u001b[0;34m**\u001b[0m\u001b[0mkwargs\u001b[0m\u001b[0;34m)\u001b[0m\u001b[0;34m\u001b[0m\u001b[0;34m\u001b[0m\u001b[0m\n\u001b[0m\u001b[1;32m     65\u001b[0m     \u001b[0;32mexcept\u001b[0m \u001b[0mException\u001b[0m \u001b[0;32mas\u001b[0m \u001b[0me\u001b[0m\u001b[0;34m:\u001b[0m  \u001b[0;31m# pylint: disable=broad-except\u001b[0m\u001b[0;34m\u001b[0m\u001b[0;34m\u001b[0m\u001b[0m\n\u001b[1;32m     66\u001b[0m       \u001b[0mfiltered_tb\u001b[0m \u001b[0;34m=\u001b[0m \u001b[0m_process_traceback_frames\u001b[0m\u001b[0;34m(\u001b[0m\u001b[0me\u001b[0m\u001b[0;34m.\u001b[0m\u001b[0m__traceback__\u001b[0m\u001b[0;34m)\u001b[0m\u001b[0;34m\u001b[0m\u001b[0;34m\u001b[0m\u001b[0m\n",
            "\u001b[0;32m/usr/local/lib/python3.7/dist-packages/keras/engine/training.py\u001b[0m in \u001b[0;36mfit\u001b[0;34m(self, x, y, batch_size, epochs, verbose, callbacks, validation_split, validation_data, shuffle, class_weight, sample_weight, initial_epoch, steps_per_epoch, validation_steps, validation_batch_size, validation_freq, max_queue_size, workers, use_multiprocessing)\u001b[0m\n\u001b[1;32m   1407\u001b[0m                 _r=1):\n\u001b[1;32m   1408\u001b[0m               \u001b[0mcallbacks\u001b[0m\u001b[0;34m.\u001b[0m\u001b[0mon_train_batch_begin\u001b[0m\u001b[0;34m(\u001b[0m\u001b[0mstep\u001b[0m\u001b[0;34m)\u001b[0m\u001b[0;34m\u001b[0m\u001b[0;34m\u001b[0m\u001b[0m\n\u001b[0;32m-> 1409\u001b[0;31m               \u001b[0mtmp_logs\u001b[0m \u001b[0;34m=\u001b[0m \u001b[0mself\u001b[0m\u001b[0;34m.\u001b[0m\u001b[0mtrain_function\u001b[0m\u001b[0;34m(\u001b[0m\u001b[0miterator\u001b[0m\u001b[0;34m)\u001b[0m\u001b[0;34m\u001b[0m\u001b[0;34m\u001b[0m\u001b[0m\n\u001b[0m\u001b[1;32m   1410\u001b[0m               \u001b[0;32mif\u001b[0m \u001b[0mdata_handler\u001b[0m\u001b[0;34m.\u001b[0m\u001b[0mshould_sync\u001b[0m\u001b[0;34m:\u001b[0m\u001b[0;34m\u001b[0m\u001b[0;34m\u001b[0m\u001b[0m\n\u001b[1;32m   1411\u001b[0m                 \u001b[0mcontext\u001b[0m\u001b[0;34m.\u001b[0m\u001b[0masync_wait\u001b[0m\u001b[0;34m(\u001b[0m\u001b[0;34m)\u001b[0m\u001b[0;34m\u001b[0m\u001b[0;34m\u001b[0m\u001b[0m\n",
            "\u001b[0;32m/usr/local/lib/python3.7/dist-packages/tensorflow/python/util/traceback_utils.py\u001b[0m in \u001b[0;36merror_handler\u001b[0;34m(*args, **kwargs)\u001b[0m\n\u001b[1;32m    148\u001b[0m     \u001b[0mfiltered_tb\u001b[0m \u001b[0;34m=\u001b[0m \u001b[0;32mNone\u001b[0m\u001b[0;34m\u001b[0m\u001b[0;34m\u001b[0m\u001b[0m\n\u001b[1;32m    149\u001b[0m     \u001b[0;32mtry\u001b[0m\u001b[0;34m:\u001b[0m\u001b[0;34m\u001b[0m\u001b[0;34m\u001b[0m\u001b[0m\n\u001b[0;32m--> 150\u001b[0;31m       \u001b[0;32mreturn\u001b[0m \u001b[0mfn\u001b[0m\u001b[0;34m(\u001b[0m\u001b[0;34m*\u001b[0m\u001b[0margs\u001b[0m\u001b[0;34m,\u001b[0m \u001b[0;34m**\u001b[0m\u001b[0mkwargs\u001b[0m\u001b[0;34m)\u001b[0m\u001b[0;34m\u001b[0m\u001b[0;34m\u001b[0m\u001b[0m\n\u001b[0m\u001b[1;32m    151\u001b[0m     \u001b[0;32mexcept\u001b[0m \u001b[0mException\u001b[0m \u001b[0;32mas\u001b[0m \u001b[0me\u001b[0m\u001b[0;34m:\u001b[0m\u001b[0;34m\u001b[0m\u001b[0;34m\u001b[0m\u001b[0m\n\u001b[1;32m    152\u001b[0m       \u001b[0mfiltered_tb\u001b[0m \u001b[0;34m=\u001b[0m \u001b[0m_process_traceback_frames\u001b[0m\u001b[0;34m(\u001b[0m\u001b[0me\u001b[0m\u001b[0;34m.\u001b[0m\u001b[0m__traceback__\u001b[0m\u001b[0;34m)\u001b[0m\u001b[0;34m\u001b[0m\u001b[0;34m\u001b[0m\u001b[0m\n",
            "\u001b[0;32m/usr/local/lib/python3.7/dist-packages/tensorflow/python/eager/def_function.py\u001b[0m in \u001b[0;36m__call__\u001b[0;34m(self, *args, **kwds)\u001b[0m\n\u001b[1;32m    913\u001b[0m \u001b[0;34m\u001b[0m\u001b[0m\n\u001b[1;32m    914\u001b[0m       \u001b[0;32mwith\u001b[0m \u001b[0mOptionalXlaContext\u001b[0m\u001b[0;34m(\u001b[0m\u001b[0mself\u001b[0m\u001b[0;34m.\u001b[0m\u001b[0m_jit_compile\u001b[0m\u001b[0;34m)\u001b[0m\u001b[0;34m:\u001b[0m\u001b[0;34m\u001b[0m\u001b[0;34m\u001b[0m\u001b[0m\n\u001b[0;32m--> 915\u001b[0;31m         \u001b[0mresult\u001b[0m \u001b[0;34m=\u001b[0m \u001b[0mself\u001b[0m\u001b[0;34m.\u001b[0m\u001b[0m_call\u001b[0m\u001b[0;34m(\u001b[0m\u001b[0;34m*\u001b[0m\u001b[0margs\u001b[0m\u001b[0;34m,\u001b[0m \u001b[0;34m**\u001b[0m\u001b[0mkwds\u001b[0m\u001b[0;34m)\u001b[0m\u001b[0;34m\u001b[0m\u001b[0;34m\u001b[0m\u001b[0m\n\u001b[0m\u001b[1;32m    916\u001b[0m \u001b[0;34m\u001b[0m\u001b[0m\n\u001b[1;32m    917\u001b[0m       \u001b[0mnew_tracing_count\u001b[0m \u001b[0;34m=\u001b[0m \u001b[0mself\u001b[0m\u001b[0;34m.\u001b[0m\u001b[0mexperimental_get_tracing_count\u001b[0m\u001b[0;34m(\u001b[0m\u001b[0;34m)\u001b[0m\u001b[0;34m\u001b[0m\u001b[0;34m\u001b[0m\u001b[0m\n",
            "\u001b[0;32m/usr/local/lib/python3.7/dist-packages/tensorflow/python/eager/def_function.py\u001b[0m in \u001b[0;36m_call\u001b[0;34m(self, *args, **kwds)\u001b[0m\n\u001b[1;32m    978\u001b[0m         \u001b[0;31m# Lifting succeeded, so variables are initialized and we can run the\u001b[0m\u001b[0;34m\u001b[0m\u001b[0;34m\u001b[0m\u001b[0;34m\u001b[0m\u001b[0m\n\u001b[1;32m    979\u001b[0m         \u001b[0;31m# stateless function.\u001b[0m\u001b[0;34m\u001b[0m\u001b[0;34m\u001b[0m\u001b[0;34m\u001b[0m\u001b[0m\n\u001b[0;32m--> 980\u001b[0;31m         \u001b[0;32mreturn\u001b[0m \u001b[0mself\u001b[0m\u001b[0;34m.\u001b[0m\u001b[0m_stateless_fn\u001b[0m\u001b[0;34m(\u001b[0m\u001b[0;34m*\u001b[0m\u001b[0margs\u001b[0m\u001b[0;34m,\u001b[0m \u001b[0;34m**\u001b[0m\u001b[0mkwds\u001b[0m\u001b[0;34m)\u001b[0m\u001b[0;34m\u001b[0m\u001b[0;34m\u001b[0m\u001b[0m\n\u001b[0m\u001b[1;32m    981\u001b[0m     \u001b[0;32melse\u001b[0m\u001b[0;34m:\u001b[0m\u001b[0;34m\u001b[0m\u001b[0;34m\u001b[0m\u001b[0m\n\u001b[1;32m    982\u001b[0m       _, _, filtered_flat_args = (\n",
            "\u001b[0;32m/usr/local/lib/python3.7/dist-packages/tensorflow/python/eager/function.py\u001b[0m in \u001b[0;36m__call__\u001b[0;34m(self, *args, **kwargs)\u001b[0m\n\u001b[1;32m   2452\u001b[0m        filtered_flat_args) = self._maybe_define_function(args, kwargs)\n\u001b[1;32m   2453\u001b[0m     return graph_function._call_flat(\n\u001b[0;32m-> 2454\u001b[0;31m         filtered_flat_args, captured_inputs=graph_function.captured_inputs)  # pylint: disable=protected-access\n\u001b[0m\u001b[1;32m   2455\u001b[0m \u001b[0;34m\u001b[0m\u001b[0m\n\u001b[1;32m   2456\u001b[0m   \u001b[0;34m@\u001b[0m\u001b[0mproperty\u001b[0m\u001b[0;34m\u001b[0m\u001b[0;34m\u001b[0m\u001b[0m\n",
            "\u001b[0;32m/usr/local/lib/python3.7/dist-packages/tensorflow/python/eager/function.py\u001b[0m in \u001b[0;36m_call_flat\u001b[0;34m(self, args, captured_inputs, cancellation_manager)\u001b[0m\n\u001b[1;32m   1859\u001b[0m       \u001b[0;31m# No tape is watching; skip to running the function.\u001b[0m\u001b[0;34m\u001b[0m\u001b[0;34m\u001b[0m\u001b[0;34m\u001b[0m\u001b[0m\n\u001b[1;32m   1860\u001b[0m       return self._build_call_outputs(self._inference_function.call(\n\u001b[0;32m-> 1861\u001b[0;31m           ctx, args, cancellation_manager=cancellation_manager))\n\u001b[0m\u001b[1;32m   1862\u001b[0m     forward_backward = self._select_forward_and_backward_functions(\n\u001b[1;32m   1863\u001b[0m         \u001b[0margs\u001b[0m\u001b[0;34m,\u001b[0m\u001b[0;34m\u001b[0m\u001b[0;34m\u001b[0m\u001b[0m\n",
            "\u001b[0;32m/usr/local/lib/python3.7/dist-packages/tensorflow/python/eager/function.py\u001b[0m in \u001b[0;36mcall\u001b[0;34m(self, ctx, args, cancellation_manager)\u001b[0m\n\u001b[1;32m    500\u001b[0m               \u001b[0minputs\u001b[0m\u001b[0;34m=\u001b[0m\u001b[0margs\u001b[0m\u001b[0;34m,\u001b[0m\u001b[0;34m\u001b[0m\u001b[0;34m\u001b[0m\u001b[0m\n\u001b[1;32m    501\u001b[0m               \u001b[0mattrs\u001b[0m\u001b[0;34m=\u001b[0m\u001b[0mattrs\u001b[0m\u001b[0;34m,\u001b[0m\u001b[0;34m\u001b[0m\u001b[0;34m\u001b[0m\u001b[0m\n\u001b[0;32m--> 502\u001b[0;31m               ctx=ctx)\n\u001b[0m\u001b[1;32m    503\u001b[0m         \u001b[0;32melse\u001b[0m\u001b[0;34m:\u001b[0m\u001b[0;34m\u001b[0m\u001b[0;34m\u001b[0m\u001b[0m\n\u001b[1;32m    504\u001b[0m           outputs = execute.execute_with_cancellation(\n",
            "\u001b[0;32m/usr/local/lib/python3.7/dist-packages/tensorflow/python/eager/execute.py\u001b[0m in \u001b[0;36mquick_execute\u001b[0;34m(op_name, num_outputs, inputs, attrs, ctx, name)\u001b[0m\n\u001b[1;32m     53\u001b[0m     \u001b[0mctx\u001b[0m\u001b[0;34m.\u001b[0m\u001b[0mensure_initialized\u001b[0m\u001b[0;34m(\u001b[0m\u001b[0;34m)\u001b[0m\u001b[0;34m\u001b[0m\u001b[0;34m\u001b[0m\u001b[0m\n\u001b[1;32m     54\u001b[0m     tensors = pywrap_tfe.TFE_Py_Execute(ctx._handle, device_name, op_name,\n\u001b[0;32m---> 55\u001b[0;31m                                         inputs, attrs, num_outputs)\n\u001b[0m\u001b[1;32m     56\u001b[0m   \u001b[0;32mexcept\u001b[0m \u001b[0mcore\u001b[0m\u001b[0;34m.\u001b[0m\u001b[0m_NotOkStatusException\u001b[0m \u001b[0;32mas\u001b[0m \u001b[0me\u001b[0m\u001b[0;34m:\u001b[0m\u001b[0;34m\u001b[0m\u001b[0;34m\u001b[0m\u001b[0m\n\u001b[1;32m     57\u001b[0m     \u001b[0;32mif\u001b[0m \u001b[0mname\u001b[0m \u001b[0;32mis\u001b[0m \u001b[0;32mnot\u001b[0m \u001b[0;32mNone\u001b[0m\u001b[0;34m:\u001b[0m\u001b[0;34m\u001b[0m\u001b[0;34m\u001b[0m\u001b[0m\n",
            "\u001b[0;31mKeyboardInterrupt\u001b[0m: "
          ]
        }
      ]
    },
    {
      "cell_type": "code",
      "source": [
        "history = model2.fit(padded, Y2, epochs=30, shuffle=True, validation_split=0.1)\n"
      ],
      "metadata": {
        "colab": {
          "base_uri": "https://localhost:8080/"
        },
        "id": "oUns9oJ4rKlS",
        "outputId": "d929ef5b-4571-4165-f853-932250545bf3"
      },
      "execution_count": null,
      "outputs": [
        {
          "output_type": "stream",
          "name": "stdout",
          "text": [
            "Epoch 1/30\n",
            "22/22 [==============================] - 8s 386ms/step - loss: 0.6921 - accuracy: 0.5506 - val_loss: 0.6881 - val_accuracy: 0.6623\n",
            "Epoch 2/30\n",
            "22/22 [==============================] - 8s 352ms/step - loss: 0.6821 - accuracy: 0.6084 - val_loss: 0.6566 - val_accuracy: 0.6623\n",
            "Epoch 3/30\n",
            "22/22 [==============================] - 8s 354ms/step - loss: 0.6683 - accuracy: 0.6127 - val_loss: 0.6420 - val_accuracy: 0.6623\n",
            "Epoch 4/30\n",
            "22/22 [==============================] - 8s 353ms/step - loss: 0.6611 - accuracy: 0.6228 - val_loss: 0.6318 - val_accuracy: 0.6623\n",
            "Epoch 5/30\n",
            "22/22 [==============================] - 8s 357ms/step - loss: 0.6526 - accuracy: 0.6214 - val_loss: 0.6181 - val_accuracy: 0.6623\n",
            "Epoch 6/30\n",
            "22/22 [==============================] - 8s 363ms/step - loss: 0.6448 - accuracy: 0.6228 - val_loss: 0.6069 - val_accuracy: 0.6623\n",
            "Epoch 7/30\n",
            "22/22 [==============================] - 8s 348ms/step - loss: 0.6323 - accuracy: 0.6142 - val_loss: 0.5801 - val_accuracy: 0.6623\n",
            "Epoch 8/30\n",
            "22/22 [==============================] - 8s 361ms/step - loss: 0.5953 - accuracy: 0.6243 - val_loss: 0.5478 - val_accuracy: 0.6623\n",
            "Epoch 9/30\n",
            "22/22 [==============================] - 8s 359ms/step - loss: 0.5442 - accuracy: 0.6402 - val_loss: 0.4948 - val_accuracy: 0.6623\n",
            "Epoch 10/30\n",
            "22/22 [==============================] - 8s 348ms/step - loss: 0.4689 - accuracy: 0.6691 - val_loss: 0.4547 - val_accuracy: 0.7922\n",
            "Epoch 11/30\n",
            "22/22 [==============================] - 8s 361ms/step - loss: 0.3989 - accuracy: 0.7370 - val_loss: 0.4513 - val_accuracy: 0.7792\n",
            "Epoch 12/30\n",
            "22/22 [==============================] - 8s 346ms/step - loss: 0.3572 - accuracy: 0.7659 - val_loss: 0.4513 - val_accuracy: 0.8182\n",
            "Epoch 13/30\n",
            "22/22 [==============================] - 8s 381ms/step - loss: 0.3148 - accuracy: 0.8439 - val_loss: 0.4912 - val_accuracy: 0.8312\n",
            "Epoch 14/30\n",
            "22/22 [==============================] - 8s 349ms/step - loss: 0.2865 - accuracy: 0.8627 - val_loss: 0.4775 - val_accuracy: 0.8182\n",
            "Epoch 15/30\n",
            "22/22 [==============================] - 8s 347ms/step - loss: 0.2569 - accuracy: 0.8844 - val_loss: 0.4798 - val_accuracy: 0.8052\n",
            "Epoch 16/30\n",
            "22/22 [==============================] - 8s 356ms/step - loss: 0.2115 - accuracy: 0.9075 - val_loss: 0.5579 - val_accuracy: 0.7922\n",
            "Epoch 17/30\n",
            "22/22 [==============================] - 8s 352ms/step - loss: 0.1762 - accuracy: 0.9335 - val_loss: 0.6416 - val_accuracy: 0.8571\n",
            "Epoch 18/30\n",
            "22/22 [==============================] - 8s 351ms/step - loss: 0.1626 - accuracy: 0.9306 - val_loss: 0.6721 - val_accuracy: 0.8182\n",
            "Epoch 19/30\n",
            "22/22 [==============================] - 8s 358ms/step - loss: 0.1363 - accuracy: 0.9465 - val_loss: 0.7839 - val_accuracy: 0.8312\n",
            "Epoch 20/30\n",
            "22/22 [==============================] - 8s 351ms/step - loss: 0.1274 - accuracy: 0.9523 - val_loss: 0.7948 - val_accuracy: 0.8312\n",
            "Epoch 21/30\n",
            "22/22 [==============================] - 8s 348ms/step - loss: 0.1033 - accuracy: 0.9711 - val_loss: 0.8025 - val_accuracy: 0.8182\n",
            "Epoch 22/30\n",
            "22/22 [==============================] - 8s 344ms/step - loss: 0.0678 - accuracy: 0.9827 - val_loss: 0.9777 - val_accuracy: 0.8442\n",
            "Epoch 23/30\n",
            "22/22 [==============================] - 8s 356ms/step - loss: 0.0524 - accuracy: 0.9913 - val_loss: 1.0769 - val_accuracy: 0.8182\n",
            "Epoch 24/30\n",
            "22/22 [==============================] - 8s 346ms/step - loss: 0.0722 - accuracy: 0.9624 - val_loss: 1.1650 - val_accuracy: 0.8571\n",
            "Epoch 25/30\n",
            "22/22 [==============================] - 8s 348ms/step - loss: 0.0554 - accuracy: 0.9884 - val_loss: 1.3180 - val_accuracy: 0.8312\n",
            "Epoch 26/30\n",
            "22/22 [==============================] - 8s 346ms/step - loss: 0.0530 - accuracy: 0.9769 - val_loss: 1.2341 - val_accuracy: 0.8182\n",
            "Epoch 27/30\n",
            "22/22 [==============================] - 8s 355ms/step - loss: 0.0303 - accuracy: 0.9899 - val_loss: 1.4948 - val_accuracy: 0.8442\n",
            "Epoch 28/30\n",
            "22/22 [==============================] - 8s 351ms/step - loss: 0.0330 - accuracy: 0.9884 - val_loss: 1.4067 - val_accuracy: 0.8182\n",
            "Epoch 29/30\n",
            "22/22 [==============================] - 8s 353ms/step - loss: 0.0294 - accuracy: 0.9884 - val_loss: 1.4545 - val_accuracy: 0.8312\n",
            "Epoch 30/30\n",
            "22/22 [==============================] - 8s 350ms/step - loss: 0.0247 - accuracy: 0.9957 - val_loss: 1.6060 - val_accuracy: 0.8312\n"
          ]
        }
      ]
    },
    {
      "cell_type": "code",
      "source": [
        "from sklearn.feature_extraction.text import CountVectorizer"
      ],
      "metadata": {
        "id": "1vSnpVwqexGO"
      },
      "execution_count": null,
      "outputs": []
    },
    {
      "cell_type": "code",
      "source": [
        "tf = CountVectorizer()\n",
        "X = tf.fit_transform(X1)"
      ],
      "metadata": {
        "id": "jxba8ZFse0cu"
      },
      "execution_count": null,
      "outputs": []
    },
    {
      "cell_type": "code",
      "source": [
        "X1"
      ],
      "metadata": {
        "id": "kgWna3Ube20t"
      },
      "execution_count": null,
      "outputs": []
    },
    {
      "cell_type": "code",
      "source": [
        "model.save('model1')\n",
        "model2.save('model2')\n"
      ],
      "metadata": {
        "id": "fQV3T9MIsogJ"
      },
      "execution_count": null,
      "outputs": []
    },
    {
      "cell_type": "code",
      "source": [
        "!zip -r model1.zip model1\n",
        "!zip -r model2.zip model2"
      ],
      "metadata": {
        "colab": {
          "base_uri": "https://localhost:8080/"
        },
        "id": "imuXVb3wtMKU",
        "outputId": "d86ea097-a656-4672-cb4c-d12b026f1755"
      },
      "execution_count": null,
      "outputs": [
        {
          "output_type": "stream",
          "name": "stdout",
          "text": [
            "  adding: model1/ (stored 0%)\n",
            "  adding: model1/assets/ (stored 0%)\n",
            "  adding: model1/variables/ (stored 0%)\n",
            "  adding: model1/variables/variables.index (deflated 69%)\n",
            "  adding: model1/variables/variables.data-00000-of-00001 (deflated 14%)\n",
            "  adding: model1/keras_metadata.pb (deflated 92%)\n",
            "  adding: model1/saved_model.pb (deflated 89%)\n",
            "  adding: model2/ (stored 0%)\n",
            "  adding: model2/assets/ (stored 0%)\n",
            "  adding: model2/variables/ (stored 0%)\n",
            "  adding: model2/variables/variables.index (deflated 69%)\n",
            "  adding: model2/variables/variables.data-00000-of-00001 (deflated 11%)\n",
            "  adding: model2/keras_metadata.pb (deflated 92%)\n",
            "  adding: model2/saved_model.pb (deflated 89%)\n"
          ]
        }
      ]
    },
    {
      "cell_type": "code",
      "source": [
        "!ls -l -h"
      ],
      "metadata": {
        "colab": {
          "base_uri": "https://localhost:8080/"
        },
        "id": "VCKYTb5es46o",
        "outputId": "99653b26-d444-4ebe-ab5b-8bb7a067733a"
      },
      "execution_count": null,
      "outputs": [
        {
          "output_type": "stream",
          "name": "stdout",
          "text": [
            "total 480M\n",
            "drwx------ 6 root root 4.0K Nov 27 06:09 drive\n",
            "-rw-r--r-- 1 root root  37K Nov 27 04:26 labeled.txt\n",
            "drwxr-xr-x 4 root root 4.0K Nov 27 06:09 model1\n",
            "-rw-r--r-- 1 root root 129M Nov 27 06:07 model1.h5\n",
            "-rw-r--r-- 1 root root 110M Nov 27 06:10 model1.zip\n",
            "drwxr-xr-x 4 root root 4.0K Nov 27 06:09 model2\n",
            "-rw-r--r-- 1 root root 129M Nov 27 06:07 model2.h5\n",
            "-rw-r--r-- 1 root root 114M Nov 27 06:10 model2.zip\n",
            "-rw-r--r-- 1 root root  64K Nov 27 04:28 Negative.txt\n",
            "-rw-r--r-- 1 root root  39K Nov 27 04:29 Positive.txt\n",
            "drwxr-xr-x 1 root root 4.0K Nov 22 00:14 sample_data\n"
          ]
        }
      ]
    },
    {
      "cell_type": "code",
      "source": [
        "!cp model1.zip drive/MyDrive/\n",
        "!cp model2.zip drive/MyDrive/\n"
      ],
      "metadata": {
        "id": "PrTHWK4JthCM"
      },
      "execution_count": null,
      "outputs": []
    },
    {
      "cell_type": "code",
      "source": [],
      "metadata": {
        "id": "98P4H55vtlt0"
      },
      "execution_count": null,
      "outputs": []
    }
  ]
}