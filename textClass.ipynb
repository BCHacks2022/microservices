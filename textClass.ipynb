{
  "cells": [
    {
      "cell_type": "code",
      "execution_count": null,
      "metadata": {
        "id": "Yg-zLlMNc3L2"
      },
      "outputs": [],
      "source": [
        "import tensorflow as tf\n",
        "\n",
        "import os\n",
        "import tensorflow_datasets as tfds\n",
        "import numpy as np\n",
        "from PIL import Image\n",
        "\n",
        "import matplotlib.pyplot as plt\n",
        "import matplotlib.patches as patches"
      ]
    },
    {
      "cell_type": "code",
      "execution_count": null,
      "metadata": {
        "id": "FJaggn2SaF3W",
        "colab": {
          "base_uri": "https://localhost:8080/"
        },
        "outputId": "b74fa0e6-cfa4-4130-b707-88333bbdc018"
      },
      "outputs": [
        {
          "output_type": "stream",
          "name": "stdout",
          "text": [
            "surprise\n",
            "surprise\n",
            "surprise\n",
            "surprise\n",
            "surprise\n",
            "surprise\n",
            "surprise\n",
            "surprise\n",
            "surprise\n",
            "surprise\n",
            "surprise\n",
            "surprise\n",
            "surprise\n",
            "surprise\n",
            "surprise\n",
            "surprise\n",
            "surprise\n",
            "surprise\n",
            "surprise\n",
            "surprise\n",
            "surprise\n",
            "surprise\n",
            "surprise\n",
            "surprise\n",
            "surprise\n",
            "surprise\n",
            "surprise\n",
            "surprise\n",
            "surprise\n",
            "surprise\n",
            "surprise\n",
            "surprise\n",
            "surprise\n",
            "surprise\n",
            "surprise\n",
            "surprise\n",
            "surprise\n",
            "surprise\n",
            "surprise\n",
            "surprise\n",
            "surprise\n",
            "surprise\n",
            "surprise\n",
            "surprise\n",
            "surprise\n",
            "surprise\n",
            "surprise\n",
            "surprise\n",
            "surprise\n",
            "surprise\n",
            "surprise\n",
            "surprise\n",
            "surprise\n",
            "surprise\n",
            "surprise\n",
            "surprise\n",
            "surprise\n",
            "surprise\n",
            "surprise\n",
            "surprise\n",
            "surprise\n",
            "surprise\n",
            "surprise\n",
            "surprise\n",
            "surprise\n",
            "surprise\n",
            "surprise\n",
            "surprise\n",
            "surprise\n",
            "surprise\n",
            "surprise\n",
            "surprise\n",
            "surprise\n",
            "surprise\n",
            "surprise\n",
            "surprise\n",
            "surprise\n",
            "surprise\n",
            "surprise\n",
            "surprise\n",
            "surprise\n",
            "surprise\n",
            "surprise\n",
            "surprise\n",
            "surprise\n",
            "surprise\n",
            "surprise\n",
            "surprise\n",
            "surprise\n",
            "surprise\n",
            "surprise\n",
            "surprise\n",
            "surprise\n",
            "surprise\n",
            "surprise\n",
            "surprise\n",
            "surprise\n",
            "surprise\n",
            "surprise\n",
            "surprise\n",
            "surprise\n",
            "surprise\n",
            "surprise\n",
            "surprise\n",
            "surprise\n",
            "surprise\n",
            "surprise\n",
            "surprise\n",
            "surprise\n",
            "surprise\n",
            "surprise\n",
            "surprise\n",
            "surprise\n",
            "surprise\n",
            "surprise\n",
            "surprise\n",
            "surprise\n",
            "surprise\n",
            "surprise\n",
            "surprise\n",
            "surprise\n",
            "surprise\n",
            "surprise\n",
            "surprise\n",
            "surprise\n",
            "surprise\n",
            "surprise\n",
            "surprise\n",
            "surprise\n",
            "surprise\n",
            "surprise\n",
            "surprise\n",
            "surprise\n",
            "surprise\n",
            "surprise\n",
            "surprise\n",
            "surprise\n",
            "surprise\n",
            "surprise\n",
            "surprise\n",
            "surprise\n",
            "surprise\n",
            "surprise\n",
            "surprise\n",
            "surprise\n",
            "surprise\n",
            "surprise\n",
            "surprise\n",
            "surprise\n",
            "surprise\n",
            "surprise\n",
            "surprise\n",
            "surprise\n",
            "surprise\n",
            "surprise\n",
            "surprise\n",
            "surprise\n",
            "surprise\n",
            "surprise\n",
            "surprise\n",
            "surprise\n",
            "surprise\n",
            "surprise\n",
            "surprise\n",
            "surprise\n",
            "surprise\n",
            "surprise\n",
            "surprise\n",
            "surprise\n",
            "surprise\n",
            "surprise\n",
            "surprise\n",
            "surprise\n",
            "surprise\n",
            "surprise\n",
            "surprise\n",
            "surprise\n",
            "surprise\n",
            "surprise\n",
            "surprise\n",
            "surprise\n",
            "surprise\n",
            "surprise\n",
            "surprise\n",
            "surprise\n",
            "surprise\n",
            "surprise\n",
            "surprise\n",
            "surprise\n",
            "surprise\n",
            "surprise\n",
            "surprise\n",
            "surprise\n",
            "surprise\n",
            "surprise\n",
            "surprise\n",
            "surprise\n",
            "surprise\n",
            "surprise\n",
            "surprise\n",
            "surprise\n",
            "surprise\n",
            "surprise\n",
            "surprise\n",
            "surprise\n",
            "surprise\n",
            "surprise\n",
            "surprise\n",
            "surprise\n",
            "surprise\n",
            "surprise\n",
            "surprise\n",
            "surprise\n",
            "surprise\n",
            "surprise\n",
            "surprise\n",
            "surprise\n",
            "surprise\n",
            "surprise\n",
            "surprise\n",
            "surprise\n",
            "surprise\n",
            "surprise\n",
            "surprise\n",
            "surprise\n",
            "surprise\n",
            "surprise\n",
            "surprise\n",
            "surprise\n",
            "surprise\n",
            "surprise\n",
            "surprise\n",
            "surprise\n",
            "surprise\n",
            "surprise\n",
            "surprise\n",
            "surprise\n",
            "surprise\n",
            "surprise\n",
            "surprise\n",
            "surprise\n",
            "surprise\n",
            "surprise\n",
            "surprise\n",
            "surprise\n",
            "surprise\n",
            "surprise\n",
            "surprise\n",
            "surprise\n",
            "surprise\n",
            "surprise\n",
            "surprise\n",
            "surprise\n",
            "surprise\n",
            "surprise\n",
            "surprise\n",
            "surprise\n",
            "surprise\n",
            "surprise\n",
            "surprise\n",
            "surprise\n",
            "surprise\n",
            "surprise\n",
            "surprise\n",
            "surprise\n",
            "surprise\n",
            "surprise\n",
            "surprise\n",
            "surprise\n",
            "surprise\n",
            "surprise\n",
            "surprise\n",
            "surprise\n",
            "surprise\n",
            "surprise\n",
            "surprise\n",
            "surprise\n",
            "surprise\n",
            "surprise\n",
            "surprise\n",
            "surprise\n",
            "surprise\n",
            "surprise\n",
            "surprise\n",
            "surprise\n",
            "surprise\n",
            "surprise\n",
            "surprise\n",
            "surprise\n",
            "surprise\n",
            "surprise\n",
            "surprise\n",
            "surprise\n",
            "surprise\n",
            "surprise\n",
            "surprise\n",
            "surprise\n",
            "surprise\n",
            "surprise\n",
            "surprise\n",
            "surprise\n",
            "surprise\n",
            "surprise\n",
            "surprise\n",
            "surprise\n",
            "surprise\n",
            "surprise\n",
            "surprise\n",
            "surprise\n",
            "surprise\n",
            "surprise\n",
            "surprise\n",
            "surprise\n",
            "surprise\n",
            "surprise\n",
            "surprise\n",
            "surprise\n",
            "surprise\n",
            "surprise\n",
            "surprise\n",
            "surprise\n",
            "surprise\n",
            "surprise\n",
            "surprise\n",
            "surprise\n",
            "surprise\n",
            "surprise\n",
            "surprise\n",
            "surprise\n",
            "surprise\n",
            "surprise\n",
            "surprise\n",
            "surprise\n",
            "surprise\n",
            "surprise\n",
            "surprise\n",
            "surprise\n",
            "surprise\n",
            "surprise\n",
            "surprise\n",
            "surprise\n",
            "surprise\n",
            "surprise\n",
            "surprise\n",
            "surprise\n",
            "surprise\n",
            "surprise\n",
            "surprise\n",
            "surprise\n",
            "surprise\n",
            "surprise\n",
            "surprise\n",
            "surprise\n",
            "surprise\n",
            "surprise\n",
            "surprise\n",
            "surprise\n",
            "surprise\n",
            "surprise\n",
            "surprise\n",
            "surprise\n",
            "surprise\n",
            "surprise\n",
            "surprise\n",
            "surprise\n",
            "surprise\n",
            "surprise\n",
            "surprise\n",
            "surprise\n",
            "surprise\n",
            "surprise\n",
            "surprise\n",
            "surprise\n",
            "surprise\n",
            "surprise\n",
            "surprise\n",
            "surprise\n",
            "surprise\n",
            "surprise\n",
            "surprise\n",
            "surprise\n",
            "surprise\n",
            "surprise\n",
            "surprise\n",
            "surprise\n",
            "surprise\n",
            "surprise\n",
            "surprise\n",
            "surprise\n",
            "surprise\n",
            "surprise\n",
            "surprise\n",
            "surprise\n",
            "surprise\n",
            "surprise\n",
            "surprise\n",
            "surprise\n",
            "surprise\n",
            "surprise\n",
            "surprise\n",
            "surprise\n",
            "surprise\n",
            "surprise\n",
            "surprise\n",
            "surprise\n",
            "surprise\n",
            "surprise\n",
            "surprise\n",
            "surprise\n",
            "surprise\n",
            "surprise\n",
            "surprise\n",
            "surprise\n",
            "surprise\n",
            "surprise\n",
            "surprise\n",
            "surprise\n",
            "surprise\n",
            "surprise\n",
            "surprise\n",
            "surprise\n",
            "surprise\n",
            "surprise\n",
            "surprise\n",
            "surprise\n",
            "surprise\n",
            "surprise\n",
            "surprise\n",
            "surprise\n",
            "surprise\n",
            "surprise\n",
            "surprise\n",
            "surprise\n",
            "surprise\n",
            "surprise\n",
            "surprise\n",
            "surprise\n",
            "surprise\n",
            "surprise\n",
            "surprise\n",
            "surprise\n",
            "surprise\n",
            "surprise\n",
            "surprise\n",
            "surprise\n",
            "surprise\n",
            "surprise\n",
            "surprise\n",
            "surprise\n",
            "surprise\n",
            "surprise\n",
            "surprise\n",
            "surprise\n",
            "surprise\n",
            "surprise\n",
            "surprise\n",
            "surprise\n",
            "surprise\n",
            "surprise\n",
            "surprise\n",
            "surprise\n",
            "surprise\n",
            "surprise\n",
            "surprise\n",
            "surprise\n",
            "surprise\n",
            "surprise\n",
            "surprise\n",
            "surprise\n",
            "surprise\n",
            "surprise\n",
            "surprise\n",
            "surprise\n",
            "surprise\n",
            "surprise\n",
            "surprise\n",
            "surprise\n",
            "surprise\n",
            "surprise\n",
            "surprise\n",
            "surprise\n",
            "surprise\n",
            "surprise\n",
            "surprise\n",
            "surprise\n",
            "surprise\n",
            "surprise\n",
            "surprise\n",
            "surprise\n",
            "surprise\n",
            "surprise\n",
            "surprise\n",
            "surprise\n",
            "surprise\n",
            "surprise\n",
            "surprise\n",
            "surprise\n",
            "surprise\n",
            "surprise\n",
            "surprise\n",
            "surprise\n",
            "surprise\n",
            "surprise\n",
            "surprise\n",
            "surprise\n",
            "surprise\n",
            "surprise\n",
            "surprise\n",
            "surprise\n",
            "surprise\n",
            "surprise\n",
            "surprise\n",
            "surprise\n",
            "surprise\n",
            "surprise\n",
            "surprise\n",
            "surprise\n",
            "surprise\n",
            "surprise\n",
            "surprise\n",
            "surprise\n",
            "surprise\n",
            "surprise\n",
            "surprise\n",
            "surprise\n",
            "surprise\n",
            "surprise\n",
            "surprise\n",
            "surprise\n",
            "surprise\n",
            "surprise\n",
            "surprise\n",
            "surprise\n",
            "surprise\n",
            "surprise\n",
            "surprise\n",
            "surprise\n",
            "surprise\n",
            "surprise\n",
            "surprise\n",
            "surprise\n",
            "surprise\n",
            "surprise\n",
            "surprise\n",
            "surprise\n",
            "surprise\n",
            "surprise\n",
            "surprise\n",
            "surprise\n",
            "surprise\n",
            "surprise\n",
            "surprise\n",
            "surprise\n",
            "surprise\n",
            "surprise\n",
            "surprise\n",
            "surprise\n",
            "surprise\n",
            "surprise\n",
            "surprise\n",
            "surprise\n",
            "surprise\n",
            "surprise\n",
            "surprise\n",
            "surprise\n",
            "surprise\n",
            "surprise\n",
            "surprise\n",
            "surprise\n",
            "surprise\n",
            "surprise\n",
            "surprise\n"
          ]
        }
      ],
      "source": [
        "f = open(\"train.txt\")\n",
        "texts = f.readlines()\n",
        "Xs = []  \n",
        "Ys = []\n",
        "for i in range(len(texts)):\n",
        "  x,y = texts[i].strip().split(\";\")\n",
        "  if y == \"surprise\":\n",
        "    print(\"surprise\")\n",
        "    continue\n",
        "  Xs.append(x)\n",
        "  Ys.append(y)\n",
        "f.close()"
      ]
    },
    {
      "cell_type": "code",
      "execution_count": null,
      "metadata": {
        "id": "GjjZhbLLcL77"
      },
      "outputs": [],
      "source": [
        "labels = []\n",
        "for i in Ys:\n",
        "  if not i in labels:\n",
        "    labels.append(i)"
      ]
    },
    {
      "cell_type": "code",
      "source": [
        "labels"
      ],
      "metadata": {
        "colab": {
          "base_uri": "https://localhost:8080/"
        },
        "id": "NxnANJpzOd4L",
        "outputId": "f5c818b8-a379-4b93-e790-7b206ed8395d"
      },
      "execution_count": null,
      "outputs": [
        {
          "output_type": "execute_result",
          "data": {
            "text/plain": [
              "['sadness', 'anger', 'love', 'fear', 'joy']"
            ]
          },
          "metadata": {},
          "execution_count": 124
        }
      ]
    },
    {
      "cell_type": "code",
      "source": [
        "PN = [0, 0, 1, 0, 1]"
      ],
      "metadata": {
        "id": "3tvmDn6FOeeD"
      },
      "execution_count": null,
      "outputs": []
    },
    {
      "cell_type": "code",
      "execution_count": null,
      "metadata": {
        "id": "ffD5OIXKcWSa"
      },
      "outputs": [],
      "source": [
        "tmp_Ys = []\n",
        "for i in Ys:\n",
        "  if PN[labels.index(i)] != -1:\n",
        "    tmp_Ys.append(PN[labels.index(i)])\n",
        "  else:\n",
        "   print(\"OOBA!\")"
      ]
    },
    {
      "cell_type": "code",
      "execution_count": null,
      "metadata": {
        "id": "uIrWWcwCdBlW"
      },
      "outputs": [],
      "source": [
        "Ys = np.array(tmp_Ys)"
      ]
    },
    {
      "cell_type": "code",
      "execution_count": null,
      "metadata": {
        "id": "LN-wMMywa6jC"
      },
      "outputs": [],
      "source": [
        "# tokenlize\n",
        "token_to_word = {}\n",
        "word_to_token = {}\n",
        "token = 1 #0 is for padding\n",
        "for i in Xs:\n",
        "  for word in i.split(\" \"):\n",
        "    if not word in word_to_token:\n",
        "      token_to_word[token] = word\n",
        "      word_to_token[word] = token\n",
        "      token+=1\n",
        "\n",
        "tmp_Xs = []\n",
        "for i in Xs:\n",
        "  row = []\n",
        "  for word in i.split(\" \"):\n",
        "    row.append(word_to_token[word])\n",
        "  tmp_Xs.append(row)"
      ]
    },
    {
      "cell_type": "code",
      "execution_count": null,
      "metadata": {
        "id": "vnIoEirKeqkT"
      },
      "outputs": [],
      "source": [
        "# padding\n",
        "maxlen = 0\n",
        "for i in tmp_Xs: #not Xs\n",
        "  maxlen = max(len(i),maxlen)\n",
        "\n",
        "Xs = []\n",
        "for i in tmp_Xs:\n",
        "  l = len(i)\n",
        "  more = maxlen - l\n",
        "  z = np.zeros(shape=more)\n",
        "  Xs.append(np.append(z,i))\n",
        "Xs = np.array(Xs)"
      ]
    },
    {
      "cell_type": "code",
      "execution_count": null,
      "metadata": {
        "colab": {
          "base_uri": "https://localhost:8080/"
        },
        "id": "O_5D037NcAlZ",
        "outputId": "e1cf9a31-cc69-4d29-f871-0601d15b783f"
      },
      "outputs": [
        {
          "output_type": "stream",
          "name": "stderr",
          "text": [
            "WARNING:tensorflow:Layer gru_8 will not use cuDNN kernels since it doesn't meet the criteria. It will use a generic GPU kernel as fallback when running on GPU.\n"
          ]
        },
        {
          "output_type": "stream",
          "name": "stdout",
          "text": [
            "Model: \"sequential_8\"\n",
            "_________________________________________________________________\n",
            " Layer (type)                Output Shape              Param #   \n",
            "=================================================================\n",
            " embedding_8 (Embedding)     (None, 66, 128)           1909504   \n",
            "                                                                 \n",
            " gru_8 (GRU)                 (None, 66, 100)           69000     \n",
            "                                                                 \n",
            " dense_55 (Dense)            (None, 66, 50)            5050      \n",
            "                                                                 \n",
            " dropout_8 (Dropout)         (None, 66, 50)            0         \n",
            "                                                                 \n",
            " flatten_8 (Flatten)         (None, 3300)              0         \n",
            "                                                                 \n",
            " dense_56 (Dense)            (None, 200)               660200    \n",
            "                                                                 \n",
            " dense_57 (Dense)            (None, 30)                6030      \n",
            "                                                                 \n",
            " dense_58 (Dense)            (None, 20)                620       \n",
            "                                                                 \n",
            " dense_59 (Dense)            (None, 10)                210       \n",
            "                                                                 \n",
            " dense_60 (Dense)            (None, 1)                 11        \n",
            "                                                                 \n",
            "=================================================================\n",
            "Total params: 2,650,625\n",
            "Trainable params: 2,650,625\n",
            "Non-trainable params: 0\n",
            "_________________________________________________________________\n"
          ]
        }
      ],
      "source": [
        "model = tf.keras.models.Sequential([\n",
        "tf.keras.layers.Embedding(len(token_to_word)+1,128,input_length=maxlen), #hlkunmmshidimaayunyanghuiqukanzhiqiandecaizhi\n",
        "tf.keras.layers.GRU(100, activation='relu', return_sequences=1),\n",
        "tf.keras.layers.Dense(50, activation='relu'),\n",
        "tf.keras.layers.Dropout(0.7),\n",
        "tf.keras.layers.Flatten(),\n",
        "tf.keras.layers.Dense(200, activation='relu'),\n",
        "tf.keras.layers.Dense(30, activation='relu'),\n",
        "tf.keras.layers.Dense(20, activation='relu'),\n",
        "tf.keras.layers.Dense(10, activation='relu'),\n",
        "tf.keras.layers.Dense(1,activation=\"sigmoid\"),\n",
        "#https://machinelearningmastery.com/multi-class-classification-tutorial-keras-deep-learning-library/\n",
        "])\n",
        "\n",
        "model.summary()\n",
        "# print(model.output_shape)\n",
        "model.compile(optimizer=tf.keras.optimizers.Adam(),\n",
        "          loss='binary_crossentropy',metrics=[\"accuracy\"])\n"
      ]
    },
    {
      "cell_type": "code",
      "source": [
        "model.fit(Xs, Ys, epochs = 3, validation_split=0.01)"
      ],
      "metadata": {
        "id": "DgEGy53K0Kq6"
      },
      "execution_count": null,
      "outputs": []
    },
    {
      "cell_type": "code",
      "source": [
        "def predict(sen):\n",
        "  a = []\n",
        "  sen = sen.replace(\",\",\"\").replace(\".\",\"\").replace(\"!\",\"\").replace(\"?\",\"\").replace(\"'\",\"\")\n",
        "  # print(sen)#kunttkouke zhelibugaidehua sihu buhuqidong !\n",
        "  for i in sen.split(\" \"):#xiamiayangyueixnyiweiwnagisplityewnaglelowerexexex\n",
        "    try:\n",
        "      a.append(word_to_token[i.lower()])\n",
        "    except:\n",
        "      print(\"Warning: %s is not found\" % i)\n",
        "      a.append(-1)\n",
        "  a = np.append(a, np.zeros(shape=(maxlen-len(a))))\n",
        "  return model.predict(np.array([a]))\n",
        "\n",
        "  return labels[np.argmax(model.predict(np.array([a])))]"
      ],
      "metadata": {
        "id": "IpCqMFH4m6mW"
      },
      "execution_count": null,
      "outputs": []
    },
    {
      "cell_type": "code",
      "source": [
        "predict(\"You are so cool\")"
      ],
      "metadata": {
        "colab": {
          "base_uri": "https://localhost:8080/"
        },
        "id": "fYBNXFCGRyoU",
        "outputId": "2337b372-ac2c-405a-daed-4a275005df67"
      },
      "execution_count": null,
      "outputs": [
        {
          "output_type": "execute_result",
          "data": {
            "text/plain": [
              "array([[0.52711195]], dtype=float32)"
            ]
          },
          "metadata": {},
          "execution_count": 134
        }
      ]
    },
    {
      "cell_type": "code",
      "source": [
        "predict(\"I am so happy\")"
      ],
      "metadata": {
        "colab": {
          "base_uri": "https://localhost:8080/"
        },
        "id": "1-1ACyXLybcJ",
        "outputId": "71660c78-1915-4743-a155-49a9dd2a342e"
      },
      "execution_count": null,
      "outputs": [
        {
          "output_type": "execute_result",
          "data": {
            "text/plain": [
              "array([[0.52635854]], dtype=float32)"
            ]
          },
          "metadata": {},
          "execution_count": 135
        }
      ]
    },
    {
      "cell_type": "code",
      "source": [
        "#koukshouyangkunttsuan zhege dictmieyouxkoukunkk"
      ],
      "metadata": {
        "id": "TVgAtpV_QY-U"
      },
      "execution_count": null,
      "outputs": []
    },
    {
      "cell_type": "code",
      "source": [
        "predict(\"I don't want to be at the mercy of my emotions I want to use them to enjoy them and to dominate them\")"
      ],
      "metadata": {
        "colab": {
          "base_uri": "https://localhost:8080/"
        },
        "id": "4j5_SOhNys_C",
        "outputId": "a32fcd13-faab-4dc0-8752-697a7eeaabbc"
      },
      "execution_count": null,
      "outputs": [
        {
          "output_type": "execute_result",
          "data": {
            "text/plain": [
              "array([[0.7133436]], dtype=float32)"
            ]
          },
          "metadata": {},
          "execution_count": 136
        }
      ]
    },
    {
      "cell_type": "code",
      "source": [
        "predict(\"Today I went to a store and they forgot to put sugar in my drink, I will never go there again\")"
      ],
      "metadata": {
        "colab": {
          "base_uri": "https://localhost:8080/"
        },
        "id": "vXD6b4Ex1Tgz",
        "outputId": "9ff8139a-6680-440a-dbbd-1ec96db21fa3"
      },
      "execution_count": null,
      "outputs": [
        {
          "output_type": "execute_result",
          "data": {
            "text/plain": [
              "array([[0.7764932]], dtype=float32)"
            ]
          },
          "metadata": {},
          "execution_count": 137
        }
      ]
    },
    {
      "cell_type": "code",
      "source": [
        "predict(\"It has been a long day and I am so moved when my grilfriend picked me up from work\")"
      ],
      "metadata": {
        "id": "gsdTYmOQ1j8D"
      },
      "execution_count": null,
      "outputs": []
    },
    {
      "cell_type": "code",
      "source": [
        "predict(\"i feel strong and good overall\")"
      ],
      "metadata": {
        "id": "fBoB7fmcQ-az"
      },
      "execution_count": null,
      "outputs": []
    },
    {
      "cell_type": "code",
      "source": [
        "token_to_word[0] = \"\""
      ],
      "metadata": {
        "id": "8PVWpjwzzGCS"
      },
      "execution_count": null,
      "outputs": []
    },
    {
      "cell_type": "code",
      "source": [
        "string = \"\"\n",
        "for i in Xs[0]:\n",
        "  if i==0:\n",
        "    break\n",
        "  print(token_to_word[int(i)])\n",
        "  string+=token_to_word[int(i)]+\" \"\n",
        "predict(string)"
      ],
      "metadata": {
        "id": "kDsKDN30yy9C"
      },
      "execution_count": null,
      "outputs": []
    },
    {
      "cell_type": "code",
      "source": [
        "labels[np.argmax(Ys[0])]"
      ],
      "metadata": {
        "id": "4fnoZt7Rz4ma"
      },
      "execution_count": null,
      "outputs": []
    },
    {
      "cell_type": "code",
      "source": [
        "string"
      ],
      "metadata": {
        "id": "1wvsuKVEzOKa"
      },
      "execution_count": null,
      "outputs": []
    },
    {
      "cell_type": "code",
      "source": [
        "model.save(\"model\")\n",
        "!zip model.mod model -r"
      ],
      "metadata": {
        "id": "ZbGQHoQGycFh"
      },
      "execution_count": null,
      "outputs": []
    },
    {
      "cell_type": "code",
      "source": [
        "!cp model.mod drive/MyDrive/NLPCS310.mod"
      ],
      "metadata": {
        "id": "zoOY0UbEykna"
      },
      "execution_count": null,
      "outputs": []
    }
  ],
  "metadata": {
    "accelerator": "GPU",
    "colab": {
      "provenance": []
    },
    "kernelspec": {
      "display_name": "Python 3",
      "name": "python3"
    },
    "language_info": {
      "name": "python"
    }
  },
  "nbformat": 4,
  "nbformat_minor": 0
}